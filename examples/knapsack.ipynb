{
 "cells": [
  {
   "cell_type": "markdown",
   "metadata": {},
   "source": [
    "# MLOPT Knapsack Example"
   ]
  },
  {
   "cell_type": "code",
   "execution_count": 7,
   "metadata": {},
   "outputs": [],
   "source": [
    "import numpy as np\n",
    "import cvxpy as cp\n",
    "import pandas as pd\n",
    "import logging\n",
    "\n",
    "import mlopt\n",
    "from mlopt.sampling import uniform_sphere_sample\n",
    "from mlopt.learners.pytorch.pytorch import PytorchNeuralNet\n",
    "from mlopt.utils import n_features, pandas2array"
   ]
  },
  {
   "cell_type": "markdown",
   "metadata": {},
   "source": [
    "## Generate problem data"
   ]
  },
  {
   "cell_type": "code",
   "execution_count": 8,
   "metadata": {},
   "outputs": [],
   "source": [
    "np.random.seed(1)  # Reset random seed for reproducibility\n",
    "\n",
    "# Variable\n",
    "n = 10\n",
    "x = cp.Variable(n, integer=True)\n",
    "\n",
    "# Cost\n",
    "c = np.random.rand(n)\n",
    "\n",
    "# Weights\n",
    "a = cp.Parameter(n, nonneg=True, name='a')\n",
    "x_u = cp.Parameter(n, nonneg=True, name='x_u')\n",
    "b = 0.5 * n"
   ]
  },
  {
   "cell_type": "markdown",
   "metadata": {},
   "source": [
    "## Create optimizer object"
   ]
  },
  {
   "cell_type": "code",
   "execution_count": 9,
   "metadata": {},
   "outputs": [],
   "source": [
    "# Problem\n",
    "cost = - c @ x\n",
    "constraints = [a @ x <= b,\n",
    "               0 <= x, x <= x_u]\n",
    "\n",
    "\n",
    "# Define optimizer\n",
    "# If you just want to remove too many messages\n",
    "# change INFO to WARNING\n",
    "m = mlopt.Optimizer(cp.Minimize(cost), constraints,\n",
    "                    log_level=logging.INFO)"
   ]
  },
  {
   "cell_type": "markdown",
   "metadata": {},
   "source": [
    "## Define training and testing parameters"
   ]
  },
  {
   "cell_type": "code",
   "execution_count": 10,
   "metadata": {},
   "outputs": [],
   "source": [
    "# Average request\n",
    "theta_bar = 2 * np.ones(2 * n)\n",
    "radius = 1.0\n",
    "\n",
    "\n",
    "def sample(theta_bar, radius, n=100):\n",
    "\n",
    "    # Sample points from multivariate ball\n",
    "    ndim = int(len(theta_bar)/2)\n",
    "    X_a = uniform_sphere_sample(theta_bar[:ndim], radius, n=n)\n",
    "    X_u = uniform_sphere_sample(theta_bar[ndim:], radius, n=n)\n",
    "\n",
    "    df = pd.DataFrame({\n",
    "        'a': list(X_a),\n",
    "        'x_u': list(X_u)\n",
    "        })\n",
    "\n",
    "    return df\n",
    "\n",
    "\n",
    "# Training and testing data\n",
    "n_train = 1000\n",
    "n_test = 100\n",
    "theta_train = sample(theta_bar, radius, n=n_train)\n",
    "theta_test = sample(theta_bar, radius, n=n_test)"
   ]
  },
  {
   "cell_type": "markdown",
   "metadata": {},
   "source": [
    "## Train predictor (Pytorch)"
   ]
  },
  {
   "cell_type": "code",
   "execution_count": 11,
   "metadata": {},
   "outputs": [
    {
     "name": "stdout",
     "output_type": "stream",
     "text": [
      "Use new data\n",
      "Compute tight constraints for training set (n_jobs = 4)\n"
     ]
    },
    {
     "data": {
      "application/vnd.jupyter.widget-view+json": {
       "model_id": "06611aba5f6d4b6ebb38b4c0346ae2dd",
       "version_major": 2,
       "version_minor": 0
      },
      "text/plain": [
       "HBox(children=(FloatProgress(value=0.0, max=1000.0), HTML(value='')))"
      ]
     },
     "metadata": {},
     "output_type": "display_data"
    },
    {
     "name": "stdout",
     "output_type": "stream",
     "text": [
      "\n",
      "Encoding strategies\n",
      "Getting unique set of strategies\n",
      "Found 43 unique strategies\n",
      "Caching KKT solver factors for each strategy (it works only for QP-representable problems with parameters only in constraints RHS)\n"
     ]
    },
    {
     "data": {
      "application/vnd.jupyter.widget-view+json": {
       "model_id": "759c61e071e4495ab85a34af8c003d74",
       "version_major": 2,
       "version_minor": 0
      },
      "text/plain": [
       "HBox(children=(FloatProgress(value=0.0, max=43.0), HTML(value='')))"
      ]
     },
     "metadata": {},
     "output_type": "display_data"
    },
    {
     "name": "stdout",
     "output_type": "stream",
     "text": [
      "\n",
      "Using CPU with Pytorch\n"
     ]
    },
    {
     "data": {
      "application/vnd.jupyter.widget-view+json": {
       "model_id": "0754efd679064e18800d4ad5e1950b29",
       "version_major": 2,
       "version_minor": 0
      },
      "text/plain": [
       "HBox(children=(FloatProgress(value=0.0, description='Converting dataframe to array', max=1000.0, style=Progres…"
      ]
     },
     "metadata": {},
     "output_type": "display_data"
    },
    {
     "name": "stdout",
     "output_type": "stream",
     "text": [
      "\n",
      "Split dataset in 900 training and 100 validation\n",
      "Train Neural Network with 3 sets of parameters, 20 inputs, 43 outputs\n",
      "Learning Neural Network with parameters: {'learning_rate': 0.001, 'batch_size': 32, 'n_epochs': 10, 'n_hidden': 31}\n",
      "Epoch 1/10\n"
     ]
    },
    {
     "data": {
      "application/vnd.jupyter.widget-view+json": {
       "model_id": "833154c8491e4172a8668fd1ebdd5a23",
       "version_major": 2,
       "version_minor": 0
      },
      "text/plain": [
       "HBox(children=(FloatProgress(value=0.0, max=29.0), HTML(value='')))"
      ]
     },
     "metadata": {},
     "output_type": "display_data"
    },
    {
     "name": "stdout",
     "output_type": "stream",
     "text": [
      "\n",
      "- Train metrics: accuracy: 0.188 ; loss: 3.724\n",
      "- Eval metrics: accuracy: 0.320 ; loss: 3.499\n",
      "Epoch 2/10\n"
     ]
    },
    {
     "data": {
      "application/vnd.jupyter.widget-view+json": {
       "model_id": "161c65fcc7ff417783c5899cd12783aa",
       "version_major": 2,
       "version_minor": 0
      },
      "text/plain": [
       "HBox(children=(FloatProgress(value=0.0, max=29.0), HTML(value='')))"
      ]
     },
     "metadata": {},
     "output_type": "display_data"
    },
    {
     "name": "stdout",
     "output_type": "stream",
     "text": [
      "\n",
      "- Train metrics: accuracy: 0.250 ; loss: 3.483\n",
      "- Eval metrics: accuracy: 0.410 ; loss: 2.289\n",
      "Epoch 3/10\n"
     ]
    },
    {
     "data": {
      "application/vnd.jupyter.widget-view+json": {
       "model_id": "ea7e6a575fd54be69fb065ade5513d1e",
       "version_major": 2,
       "version_minor": 0
      },
      "text/plain": [
       "HBox(children=(FloatProgress(value=0.0, max=29.0), HTML(value='')))"
      ]
     },
     "metadata": {},
     "output_type": "display_data"
    },
    {
     "name": "stdout",
     "output_type": "stream",
     "text": [
      "\n",
      "- Train metrics: accuracy: 0.375 ; loss: 2.455\n",
      "- Eval metrics: accuracy: 0.440 ; loss: 2.165\n",
      "Epoch 4/10\n"
     ]
    },
    {
     "data": {
      "application/vnd.jupyter.widget-view+json": {
       "model_id": "ec3fe72f67864f9f974cf0aa6743d5d5",
       "version_major": 2,
       "version_minor": 0
      },
      "text/plain": [
       "HBox(children=(FloatProgress(value=0.0, max=29.0), HTML(value='')))"
      ]
     },
     "metadata": {},
     "output_type": "display_data"
    },
    {
     "name": "stdout",
     "output_type": "stream",
     "text": [
      "\n",
      "- Train metrics: accuracy: 0.469 ; loss: 2.238\n",
      "- Eval metrics: accuracy: 0.420 ; loss: 2.145\n",
      "Epoch 5/10\n"
     ]
    },
    {
     "data": {
      "application/vnd.jupyter.widget-view+json": {
       "model_id": "760caf7dc5db426c98f64f27cabd440d",
       "version_major": 2,
       "version_minor": 0
      },
      "text/plain": [
       "HBox(children=(FloatProgress(value=0.0, max=29.0), HTML(value='')))"
      ]
     },
     "metadata": {},
     "output_type": "display_data"
    },
    {
     "name": "stdout",
     "output_type": "stream",
     "text": [
      "\n",
      "- Train metrics: accuracy: 0.500 ; loss: 2.218\n",
      "- Eval metrics: accuracy: 0.440 ; loss: 2.135\n",
      "Epoch 6/10\n"
     ]
    },
    {
     "data": {
      "application/vnd.jupyter.widget-view+json": {
       "model_id": "c5425d345cdd470d861aa43401d94dee",
       "version_major": 2,
       "version_minor": 0
      },
      "text/plain": [
       "HBox(children=(FloatProgress(value=0.0, max=29.0), HTML(value='')))"
      ]
     },
     "metadata": {},
     "output_type": "display_data"
    },
    {
     "name": "stdout",
     "output_type": "stream",
     "text": [
      "\n",
      "- Train metrics: accuracy: 0.500 ; loss: 2.218\n",
      "- Eval metrics: accuracy: 0.430 ; loss: 2.127\n",
      "Epoch 7/10\n"
     ]
    },
    {
     "data": {
      "application/vnd.jupyter.widget-view+json": {
       "model_id": "a404f1348dd44c62871a5ac756450c49",
       "version_major": 2,
       "version_minor": 0
      },
      "text/plain": [
       "HBox(children=(FloatProgress(value=0.0, max=29.0), HTML(value='')))"
      ]
     },
     "metadata": {},
     "output_type": "display_data"
    },
    {
     "name": "stdout",
     "output_type": "stream",
     "text": [
      "\n",
      "- Train metrics: accuracy: 0.500 ; loss: 2.216\n",
      "- Eval metrics: accuracy: 0.420 ; loss: 2.119\n",
      "Epoch 8/10\n"
     ]
    },
    {
     "data": {
      "application/vnd.jupyter.widget-view+json": {
       "model_id": "7551ad9d259648c8b8de3f4bf2c85857",
       "version_major": 2,
       "version_minor": 0
      },
      "text/plain": [
       "HBox(children=(FloatProgress(value=0.0, max=29.0), HTML(value='')))"
      ]
     },
     "metadata": {},
     "output_type": "display_data"
    },
    {
     "name": "stdout",
     "output_type": "stream",
     "text": [
      "\n",
      "- Train metrics: accuracy: 0.500 ; loss: 2.212\n",
      "- Eval metrics: accuracy: 0.410 ; loss: 2.108\n",
      "Epoch 9/10\n"
     ]
    },
    {
     "data": {
      "application/vnd.jupyter.widget-view+json": {
       "model_id": "dcfe1fc35f7e4eb8a5e613ebd835b80d",
       "version_major": 2,
       "version_minor": 0
      },
      "text/plain": [
       "HBox(children=(FloatProgress(value=0.0, max=29.0), HTML(value='')))"
      ]
     },
     "metadata": {},
     "output_type": "display_data"
    },
    {
     "name": "stdout",
     "output_type": "stream",
     "text": [
      "\n",
      "- Train metrics: accuracy: 0.469 ; loss: 2.204\n",
      "- Eval metrics: accuracy: 0.440 ; loss: 2.094\n",
      "Epoch 10/10\n"
     ]
    },
    {
     "data": {
      "application/vnd.jupyter.widget-view+json": {
       "model_id": "a277e70b1d1c469fb94d525c2a8cc059",
       "version_major": 2,
       "version_minor": 0
      },
      "text/plain": [
       "HBox(children=(FloatProgress(value=0.0, max=29.0), HTML(value='')))"
      ]
     },
     "metadata": {},
     "output_type": "display_data"
    },
    {
     "name": "stdout",
     "output_type": "stream",
     "text": [
      "\n",
      "- Train metrics: accuracy: 0.438 ; loss: 2.192\n",
      "- Eval metrics: accuracy: 0.440 ; loss: 2.076\n",
      "Learning Neural Network with parameters: {'learning_rate': 0.01, 'batch_size': 32, 'n_epochs': 10, 'n_hidden': 31}\n",
      "Epoch 1/10\n"
     ]
    },
    {
     "data": {
      "application/vnd.jupyter.widget-view+json": {
       "model_id": "9c8e22af7f514567bb770f4d728658e7",
       "version_major": 2,
       "version_minor": 0
      },
      "text/plain": [
       "HBox(children=(FloatProgress(value=0.0, max=29.0), HTML(value='')))"
      ]
     },
     "metadata": {},
     "output_type": "display_data"
    },
    {
     "name": "stdout",
     "output_type": "stream",
     "text": [
      "\n",
      "- Train metrics: accuracy: 0.188 ; loss: 3.724\n",
      "- Eval metrics: accuracy: 0.430 ; loss: 3.188\n",
      "Epoch 2/10\n"
     ]
    },
    {
     "data": {
      "application/vnd.jupyter.widget-view+json": {
       "model_id": "ed4d861190094beb9d4b0ad6d8e5c9b0",
       "version_major": 2,
       "version_minor": 0
      },
      "text/plain": [
       "HBox(children=(FloatProgress(value=0.0, max=29.0), HTML(value='')))"
      ]
     },
     "metadata": {},
     "output_type": "display_data"
    },
    {
     "name": "stdout",
     "output_type": "stream",
     "text": [
      "\n",
      "- Train metrics: accuracy: 0.375 ; loss: 3.424\n",
      "- Eval metrics: accuracy: 0.510 ; loss: 2.047\n",
      "Epoch 3/10\n"
     ]
    },
    {
     "data": {
      "application/vnd.jupyter.widget-view+json": {
       "model_id": "13e8b401aa1c426e8351d59c2a0466fc",
       "version_major": 2,
       "version_minor": 0
      },
      "text/plain": [
       "HBox(children=(FloatProgress(value=0.0, max=29.0), HTML(value='')))"
      ]
     },
     "metadata": {},
     "output_type": "display_data"
    },
    {
     "name": "stdout",
     "output_type": "stream",
     "text": [
      "\n",
      "- Train metrics: accuracy: 0.500 ; loss: 2.025\n",
      "- Eval metrics: accuracy: 0.520 ; loss: 1.941\n",
      "Epoch 4/10\n"
     ]
    },
    {
     "data": {
      "application/vnd.jupyter.widget-view+json": {
       "model_id": "9c1b9120401c42429ff2d17e97be5325",
       "version_major": 2,
       "version_minor": 0
      },
      "text/plain": [
       "HBox(children=(FloatProgress(value=0.0, max=29.0), HTML(value='')))"
      ]
     },
     "metadata": {},
     "output_type": "display_data"
    },
    {
     "name": "stdout",
     "output_type": "stream",
     "text": [
      "\n",
      "- Train metrics: accuracy: 0.531 ; loss: 1.990\n",
      "- Eval metrics: accuracy: 0.550 ; loss: 1.801\n",
      "Epoch 5/10\n"
     ]
    },
    {
     "data": {
      "application/vnd.jupyter.widget-view+json": {
       "model_id": "ab6347a1dafb44298fa52cdf5459be50",
       "version_major": 2,
       "version_minor": 0
      },
      "text/plain": [
       "HBox(children=(FloatProgress(value=0.0, max=29.0), HTML(value='')))"
      ]
     },
     "metadata": {},
     "output_type": "display_data"
    },
    {
     "name": "stdout",
     "output_type": "stream",
     "text": [
      "\n",
      "- Train metrics: accuracy: 0.531 ; loss: 1.871\n",
      "- Eval metrics: accuracy: 0.650 ; loss: 1.689\n",
      "Epoch 6/10\n"
     ]
    },
    {
     "data": {
      "application/vnd.jupyter.widget-view+json": {
       "model_id": "32325dfdcad34907bf764501a43a4c74",
       "version_major": 2,
       "version_minor": 0
      },
      "text/plain": [
       "HBox(children=(FloatProgress(value=0.0, max=29.0), HTML(value='')))"
      ]
     },
     "metadata": {},
     "output_type": "display_data"
    },
    {
     "name": "stdout",
     "output_type": "stream",
     "text": [
      "\n",
      "- Train metrics: accuracy: 0.594 ; loss: 1.825\n",
      "- Eval metrics: accuracy: 0.580 ; loss: 1.652\n",
      "Epoch 7/10\n"
     ]
    },
    {
     "data": {
      "application/vnd.jupyter.widget-view+json": {
       "model_id": "0fa8458c3b56467bb850223de2c0ee57",
       "version_major": 2,
       "version_minor": 0
      },
      "text/plain": [
       "HBox(children=(FloatProgress(value=0.0, max=29.0), HTML(value='')))"
      ]
     },
     "metadata": {},
     "output_type": "display_data"
    },
    {
     "name": "stdout",
     "output_type": "stream",
     "text": [
      "\n",
      "- Train metrics: accuracy: 0.594 ; loss: 1.909\n",
      "- Eval metrics: accuracy: 0.630 ; loss: 1.622\n",
      "Epoch 8/10\n"
     ]
    },
    {
     "data": {
      "application/vnd.jupyter.widget-view+json": {
       "model_id": "901dbc01070c4d4aaef9e485d6cb9a89",
       "version_major": 2,
       "version_minor": 0
      },
      "text/plain": [
       "HBox(children=(FloatProgress(value=0.0, max=29.0), HTML(value='')))"
      ]
     },
     "metadata": {},
     "output_type": "display_data"
    },
    {
     "name": "stdout",
     "output_type": "stream",
     "text": [
      "\n",
      "- Train metrics: accuracy: 0.594 ; loss: 1.893\n",
      "- Eval metrics: accuracy: 0.610 ; loss: 1.597\n",
      "Epoch 9/10\n"
     ]
    },
    {
     "data": {
      "application/vnd.jupyter.widget-view+json": {
       "model_id": "c50ca4f0f2ce4bbe969d351407bef17c",
       "version_major": 2,
       "version_minor": 0
      },
      "text/plain": [
       "HBox(children=(FloatProgress(value=0.0, max=29.0), HTML(value='')))"
      ]
     },
     "metadata": {},
     "output_type": "display_data"
    },
    {
     "name": "stdout",
     "output_type": "stream",
     "text": [
      "\n",
      "- Train metrics: accuracy: 0.625 ; loss: 1.823\n",
      "- Eval metrics: accuracy: 0.600 ; loss: 1.578\n",
      "Epoch 10/10\n"
     ]
    },
    {
     "data": {
      "application/vnd.jupyter.widget-view+json": {
       "model_id": "9639eefe406745e49a726342d7bf064c",
       "version_major": 2,
       "version_minor": 0
      },
      "text/plain": [
       "HBox(children=(FloatProgress(value=0.0, max=29.0), HTML(value='')))"
      ]
     },
     "metadata": {},
     "output_type": "display_data"
    },
    {
     "name": "stdout",
     "output_type": "stream",
     "text": [
      "\n",
      "- Train metrics: accuracy: 0.625 ; loss: 1.750\n",
      "- Eval metrics: accuracy: 0.540 ; loss: 1.677\n",
      "Learning Neural Network with parameters: {'learning_rate': 0.1, 'batch_size': 32, 'n_epochs': 10, 'n_hidden': 31}\n",
      "Epoch 1/10\n"
     ]
    },
    {
     "data": {
      "application/vnd.jupyter.widget-view+json": {
       "model_id": "a96e73bf00c041e8ab84554cef114643",
       "version_major": 2,
       "version_minor": 0
      },
      "text/plain": [
       "HBox(children=(FloatProgress(value=0.0, max=29.0), HTML(value='')))"
      ]
     },
     "metadata": {},
     "output_type": "display_data"
    },
    {
     "name": "stdout",
     "output_type": "stream",
     "text": [
      "\n",
      "- Train metrics: accuracy: 0.188 ; loss: 3.724\n",
      "- Eval metrics: accuracy: 0.430 ; loss: 4.455\n",
      "Epoch 2/10\n"
     ]
    },
    {
     "data": {
      "application/vnd.jupyter.widget-view+json": {
       "model_id": "2e9432aa08a54a3dbdfbe2f7b373ca4c",
       "version_major": 2,
       "version_minor": 0
      },
      "text/plain": [
       "HBox(children=(FloatProgress(value=0.0, max=29.0), HTML(value='')))"
      ]
     },
     "metadata": {},
     "output_type": "display_data"
    },
    {
     "name": "stdout",
     "output_type": "stream",
     "text": [
      "\n",
      "- Train metrics: accuracy: 0.406 ; loss: 5.654\n",
      "- Eval metrics: accuracy: 0.320 ; loss: 2.153\n",
      "Epoch 3/10\n"
     ]
    },
    {
     "data": {
      "application/vnd.jupyter.widget-view+json": {
       "model_id": "430814167bcc489cb9e669e6e260e777",
       "version_major": 2,
       "version_minor": 0
      },
      "text/plain": [
       "HBox(children=(FloatProgress(value=0.0, max=29.0), HTML(value='')))"
      ]
     },
     "metadata": {},
     "output_type": "display_data"
    },
    {
     "name": "stdout",
     "output_type": "stream",
     "text": [
      "\n",
      "- Train metrics: accuracy: 0.250 ; loss: 2.332\n",
      "- Eval metrics: accuracy: 0.320 ; loss: 2.163\n",
      "Epoch 4/10\n"
     ]
    },
    {
     "data": {
      "application/vnd.jupyter.widget-view+json": {
       "model_id": "dec80a19bb444dd1ab9b7ea7715b659e",
       "version_major": 2,
       "version_minor": 0
      },
      "text/plain": [
       "HBox(children=(FloatProgress(value=0.0, max=29.0), HTML(value='')))"
      ]
     },
     "metadata": {},
     "output_type": "display_data"
    },
    {
     "name": "stdout",
     "output_type": "stream",
     "text": [
      "\n",
      "- Train metrics: accuracy: 0.250 ; loss: 2.301\n",
      "- Eval metrics: accuracy: 0.400 ; loss: 2.163\n",
      "Epoch 5/10\n"
     ]
    },
    {
     "data": {
      "application/vnd.jupyter.widget-view+json": {
       "model_id": "0db060242af94d8eae8b090b9b97393d",
       "version_major": 2,
       "version_minor": 0
      },
      "text/plain": [
       "HBox(children=(FloatProgress(value=0.0, max=29.0), HTML(value='')))"
      ]
     },
     "metadata": {},
     "output_type": "display_data"
    },
    {
     "name": "stdout",
     "output_type": "stream",
     "text": [
      "\n",
      "- Train metrics: accuracy: 0.375 ; loss: 2.276\n",
      "- Eval metrics: accuracy: 0.400 ; loss: 2.164\n",
      "Epoch 6/10\n"
     ]
    },
    {
     "data": {
      "application/vnd.jupyter.widget-view+json": {
       "model_id": "e334149e19ad491db380d755cb76521c",
       "version_major": 2,
       "version_minor": 0
      },
      "text/plain": [
       "HBox(children=(FloatProgress(value=0.0, max=29.0), HTML(value='')))"
      ]
     },
     "metadata": {},
     "output_type": "display_data"
    },
    {
     "name": "stdout",
     "output_type": "stream",
     "text": [
      "\n",
      "- Train metrics: accuracy: 0.375 ; loss: 2.273\n",
      "- Eval metrics: accuracy: 0.400 ; loss: 2.165\n",
      "Epoch 7/10\n"
     ]
    },
    {
     "data": {
      "application/vnd.jupyter.widget-view+json": {
       "model_id": "ac5967cee2d74025834fa36b42e5ec89",
       "version_major": 2,
       "version_minor": 0
      },
      "text/plain": [
       "HBox(children=(FloatProgress(value=0.0, max=29.0), HTML(value='')))"
      ]
     },
     "metadata": {},
     "output_type": "display_data"
    },
    {
     "name": "stdout",
     "output_type": "stream",
     "text": [
      "\n",
      "- Train metrics: accuracy: 0.375 ; loss: 2.270\n",
      "- Eval metrics: accuracy: 0.400 ; loss: 2.165\n",
      "Epoch 8/10\n"
     ]
    },
    {
     "data": {
      "application/vnd.jupyter.widget-view+json": {
       "model_id": "973613a9e93e46c59471ac90e8974313",
       "version_major": 2,
       "version_minor": 0
      },
      "text/plain": [
       "HBox(children=(FloatProgress(value=0.0, max=29.0), HTML(value='')))"
      ]
     },
     "metadata": {},
     "output_type": "display_data"
    },
    {
     "name": "stdout",
     "output_type": "stream",
     "text": [
      "\n",
      "- Train metrics: accuracy: 0.375 ; loss: 2.269\n",
      "- Eval metrics: accuracy: 0.400 ; loss: 2.165\n",
      "Epoch 9/10\n"
     ]
    },
    {
     "data": {
      "application/vnd.jupyter.widget-view+json": {
       "model_id": "23d510ece60843008f11ff0c1fb2bd9a",
       "version_major": 2,
       "version_minor": 0
      },
      "text/plain": [
       "HBox(children=(FloatProgress(value=0.0, max=29.0), HTML(value='')))"
      ]
     },
     "metadata": {},
     "output_type": "display_data"
    },
    {
     "name": "stdout",
     "output_type": "stream",
     "text": [
      "\n",
      "- Train metrics: accuracy: 0.375 ; loss: 2.269\n",
      "- Eval metrics: accuracy: 0.400 ; loss: 2.165\n",
      "Epoch 10/10\n"
     ]
    },
    {
     "data": {
      "application/vnd.jupyter.widget-view+json": {
       "model_id": "da1b45c827a84f3fa6f2aef00f734948",
       "version_major": 2,
       "version_minor": 0
      },
      "text/plain": [
       "HBox(children=(FloatProgress(value=0.0, max=29.0), HTML(value='')))"
      ]
     },
     "metadata": {},
     "output_type": "display_data"
    },
    {
     "name": "stdout",
     "output_type": "stream",
     "text": [
      "\n",
      "- Train metrics: accuracy: 0.375 ; loss: 2.269\n",
      "- Eval metrics: accuracy: 0.400 ; loss: 2.165\n",
      "Best parameters\n",
      "{'learning_rate': 0.01, 'batch_size': 32, 'n_epochs': 10, 'n_hidden': 31}\n",
      "Train neural network with best parameters\n",
      "{'learning_rate': 0.01, 'batch_size': 32, 'n_epochs': 10, 'n_hidden': 31}\n",
      "Learning Neural Network with parameters: {'learning_rate': 0.01, 'batch_size': 32, 'n_epochs': 10, 'n_hidden': 31}\n",
      "Epoch 1/10\n"
     ]
    },
    {
     "data": {
      "application/vnd.jupyter.widget-view+json": {
       "model_id": "916c1836e9d14827a765a945df4883a2",
       "version_major": 2,
       "version_minor": 0
      },
      "text/plain": [
       "HBox(children=(FloatProgress(value=0.0, max=29.0), HTML(value='')))"
      ]
     },
     "metadata": {},
     "output_type": "display_data"
    },
    {
     "name": "stdout",
     "output_type": "stream",
     "text": [
      "\n",
      "- Train metrics: accuracy: 0.188 ; loss: 3.724\n",
      "- Eval metrics: accuracy: 0.430 ; loss: 3.188\n",
      "Epoch 2/10\n"
     ]
    },
    {
     "data": {
      "application/vnd.jupyter.widget-view+json": {
       "model_id": "2238911a38424072ba7b53aa414b9e21",
       "version_major": 2,
       "version_minor": 0
      },
      "text/plain": [
       "HBox(children=(FloatProgress(value=0.0, max=29.0), HTML(value='')))"
      ]
     },
     "metadata": {},
     "output_type": "display_data"
    },
    {
     "name": "stdout",
     "output_type": "stream",
     "text": [
      "\n",
      "- Train metrics: accuracy: 0.375 ; loss: 3.424\n",
      "- Eval metrics: accuracy: 0.510 ; loss: 2.047\n",
      "Epoch 3/10\n"
     ]
    },
    {
     "data": {
      "application/vnd.jupyter.widget-view+json": {
       "model_id": "b92a5440454148aa8f4923f6f3ad0139",
       "version_major": 2,
       "version_minor": 0
      },
      "text/plain": [
       "HBox(children=(FloatProgress(value=0.0, max=29.0), HTML(value='')))"
      ]
     },
     "metadata": {},
     "output_type": "display_data"
    },
    {
     "name": "stdout",
     "output_type": "stream",
     "text": [
      "\n",
      "- Train metrics: accuracy: 0.500 ; loss: 2.025\n",
      "- Eval metrics: accuracy: 0.520 ; loss: 1.941\n",
      "Epoch 4/10\n"
     ]
    },
    {
     "data": {
      "application/vnd.jupyter.widget-view+json": {
       "model_id": "5ae8dfc4185e4acab129cefeffe2804f",
       "version_major": 2,
       "version_minor": 0
      },
      "text/plain": [
       "HBox(children=(FloatProgress(value=0.0, max=29.0), HTML(value='')))"
      ]
     },
     "metadata": {},
     "output_type": "display_data"
    },
    {
     "name": "stdout",
     "output_type": "stream",
     "text": [
      "\n",
      "- Train metrics: accuracy: 0.531 ; loss: 1.990\n",
      "- Eval metrics: accuracy: 0.550 ; loss: 1.801\n",
      "Epoch 5/10\n"
     ]
    },
    {
     "data": {
      "application/vnd.jupyter.widget-view+json": {
       "model_id": "0db54593f20845e9b2a37700376a4bd6",
       "version_major": 2,
       "version_minor": 0
      },
      "text/plain": [
       "HBox(children=(FloatProgress(value=0.0, max=29.0), HTML(value='')))"
      ]
     },
     "metadata": {},
     "output_type": "display_data"
    },
    {
     "name": "stdout",
     "output_type": "stream",
     "text": [
      "\n",
      "- Train metrics: accuracy: 0.531 ; loss: 1.871\n",
      "- Eval metrics: accuracy: 0.650 ; loss: 1.689\n",
      "Epoch 6/10\n"
     ]
    },
    {
     "data": {
      "application/vnd.jupyter.widget-view+json": {
       "model_id": "b8e4b5959be74ccba82743b10cfd0180",
       "version_major": 2,
       "version_minor": 0
      },
      "text/plain": [
       "HBox(children=(FloatProgress(value=0.0, max=29.0), HTML(value='')))"
      ]
     },
     "metadata": {},
     "output_type": "display_data"
    },
    {
     "name": "stdout",
     "output_type": "stream",
     "text": [
      "\n",
      "- Train metrics: accuracy: 0.594 ; loss: 1.825\n",
      "- Eval metrics: accuracy: 0.580 ; loss: 1.652\n",
      "Epoch 7/10\n"
     ]
    },
    {
     "data": {
      "application/vnd.jupyter.widget-view+json": {
       "model_id": "5f0a55778449495e926102df433ac31f",
       "version_major": 2,
       "version_minor": 0
      },
      "text/plain": [
       "HBox(children=(FloatProgress(value=0.0, max=29.0), HTML(value='')))"
      ]
     },
     "metadata": {},
     "output_type": "display_data"
    },
    {
     "name": "stdout",
     "output_type": "stream",
     "text": [
      "\n",
      "- Train metrics: accuracy: 0.594 ; loss: 1.909\n",
      "- Eval metrics: accuracy: 0.630 ; loss: 1.622\n",
      "Epoch 8/10\n"
     ]
    },
    {
     "data": {
      "application/vnd.jupyter.widget-view+json": {
       "model_id": "ea8a6d723fda4c529fec9c43fc7094eb",
       "version_major": 2,
       "version_minor": 0
      },
      "text/plain": [
       "HBox(children=(FloatProgress(value=0.0, max=29.0), HTML(value='')))"
      ]
     },
     "metadata": {},
     "output_type": "display_data"
    },
    {
     "name": "stdout",
     "output_type": "stream",
     "text": [
      "\n",
      "- Train metrics: accuracy: 0.594 ; loss: 1.893\n",
      "- Eval metrics: accuracy: 0.610 ; loss: 1.597\n",
      "Epoch 9/10\n"
     ]
    },
    {
     "data": {
      "application/vnd.jupyter.widget-view+json": {
       "model_id": "65ecf08cd62041cbb6317355233349e6",
       "version_major": 2,
       "version_minor": 0
      },
      "text/plain": [
       "HBox(children=(FloatProgress(value=0.0, max=29.0), HTML(value='')))"
      ]
     },
     "metadata": {},
     "output_type": "display_data"
    },
    {
     "name": "stdout",
     "output_type": "stream",
     "text": [
      "\n",
      "- Train metrics: accuracy: 0.625 ; loss: 1.823\n",
      "- Eval metrics: accuracy: 0.600 ; loss: 1.578\n",
      "Epoch 10/10\n"
     ]
    },
    {
     "data": {
      "application/vnd.jupyter.widget-view+json": {
       "model_id": "ade73e2125404d8ab07ff3a2075f6a61",
       "version_major": 2,
       "version_minor": 0
      },
      "text/plain": [
       "HBox(children=(FloatProgress(value=0.0, max=29.0), HTML(value='')))"
      ]
     },
     "metadata": {},
     "output_type": "display_data"
    },
    {
     "name": "stdout",
     "output_type": "stream",
     "text": [
      "\n",
      "- Train metrics: accuracy: 0.625 ; loss: 1.750\n",
      "- Eval metrics: accuracy: 0.540 ; loss: 1.677\n"
     ]
    }
   ],
   "source": [
    "# Dictionary of different parameters.\n",
    "# The cross validation will try all of the possible\n",
    "# combinations\n",
    "params = {\n",
    "    'learning_rate': [0.001, 0.01, 0.1],\n",
    "    'batch_size': [32],\n",
    "    'n_epochs': [10]\n",
    "}\n",
    "m.train(theta_train, learner=mlopt.PYTORCH, params=params)"
   ]
  },
  {
   "cell_type": "markdown",
   "metadata": {},
   "source": [
    "## Benchmark on testing dataset"
   ]
  },
  {
   "cell_type": "code",
   "execution_count": 12,
   "metadata": {},
   "outputs": [
    {
     "name": "stdout",
     "output_type": "stream",
     "text": [
      "Performance evaluation\n",
      "Compute tight constraints for test set (n_jobs = 1)\n"
     ]
    },
    {
     "data": {
      "application/vnd.jupyter.widget-view+json": {
       "model_id": "1af9126384a842da9987232b255448e6",
       "version_major": 2,
       "version_minor": 0
      },
      "text/plain": [
       "HBox(children=(FloatProgress(value=0.0), HTML(value='')))"
      ]
     },
     "metadata": {},
     "output_type": "display_data"
    },
    {
     "name": "stdout",
     "output_type": "stream",
     "text": [
      "\n"
     ]
    },
    {
     "data": {
      "application/vnd.jupyter.widget-view+json": {
       "model_id": "15fe8d761a2e4934b5cd966f3429cfb3",
       "version_major": 2,
       "version_minor": 0
      },
      "text/plain": [
       "HBox(children=(FloatProgress(value=0.0, description='Converting dataframe to array', style=ProgressStyle(descr…"
      ]
     },
     "metadata": {},
     "output_type": "display_data"
    },
    {
     "name": "stdout",
     "output_type": "stream",
     "text": [
      "\n",
      "Predict tight constraints for test set\n"
     ]
    },
    {
     "data": {
      "application/vnd.jupyter.widget-view+json": {
       "model_id": "939f3f88b3e4439080ebb51bfc9fc479",
       "version_major": 2,
       "version_minor": 0
      },
      "text/plain": [
       "HBox(children=(FloatProgress(value=0.0), HTML(value='')))"
      ]
     },
     "metadata": {},
     "output_type": "display_data"
    },
    {
     "name": "stdout",
     "output_type": "stream",
     "text": [
      "\n",
      "Accuracy: 81.00 \n"
     ]
    }
   ],
   "source": [
    "results = m.performance(theta_test)\n",
    "print(\"Accuracy: %.2f \" % results[0]['accuracy'])"
   ]
  },
  {
   "cell_type": "markdown",
   "metadata": {},
   "source": [
    "## Save training data"
   ]
  },
  {
   "cell_type": "code",
   "execution_count": null,
   "metadata": {},
   "outputs": [],
   "source": [
    "m.save_training_data(\"training_data.pkl\", delete_existing=True)"
   ]
  },
  {
   "cell_type": "markdown",
   "metadata": {},
   "source": [
    "## Create new solver and train passing loaded data"
   ]
  },
  {
   "cell_type": "code",
   "execution_count": null,
   "metadata": {},
   "outputs": [],
   "source": [
    "m = mlopt.Optimizer(cp.Minimize(cost), constraints)\n",
    "m.load_training_data(\"training_data.pkl\")\n",
    "m.train(learner=mlopt.PYTORCH, params=params)  # Train after loading samples\n",
    "\n",
    "results = m.performance(theta_test)\n",
    "print(\"Accuracy: %.2f \" % results[0]['accuracy'])"
   ]
  },
  {
   "cell_type": "markdown",
   "metadata": {},
   "source": [
    "## Predict single point"
   ]
  },
  {
   "cell_type": "code",
   "execution_count": null,
   "metadata": {},
   "outputs": [],
   "source": [
    "# Predict single point\n",
    "theta = theta_test.iloc[0]\n",
    "root = logging.getLogger('mlopt')\n",
    "root.setLevel(logging.DEBUG)\n",
    "result_single_point = m.solve(theta)\n",
    "print(result_single_point)"
   ]
  },
  {
   "cell_type": "markdown",
   "metadata": {},
   "source": [
    "## Learn directly from points (talk directly to pytorch)"
   ]
  },
  {
   "cell_type": "code",
   "execution_count": null,
   "metadata": {},
   "outputs": [],
   "source": [
    "y = m.y_train\n",
    "X = m.X_train\n",
    "learner = PytorchNeuralNet(n_input=n_features(X),\n",
    "                           n_classes=len(np.unique(y)),\n",
    "                           n_best=3,\n",
    "                           params=params)\n",
    "# Train learner\n",
    "learner.train(pandas2array(X), y)\n",
    "\n",
    "# Predict\n",
    "X_pred = X.iloc[0]\n",
    "y_pred = learner.predict(pandas2array(X_pred))  # n_best most likely classes"
   ]
  },
  {
   "cell_type": "code",
   "execution_count": null,
   "metadata": {},
   "outputs": [],
   "source": []
  }
 ],
 "metadata": {
  "kernelspec": {
   "display_name": "Python 3",
   "language": "python",
   "name": "python3"
  },
  "language_info": {
   "codemirror_mode": {
    "name": "ipython",
    "version": 3
   },
   "file_extension": ".py",
   "mimetype": "text/x-python",
   "name": "python",
   "nbconvert_exporter": "python",
   "pygments_lexer": "ipython3",
   "version": "3.7.6"
  }
 },
 "nbformat": 4,
 "nbformat_minor": 4
}
