{
 "cells": [
  {
   "cell_type": "markdown",
   "metadata": {},
   "source": [
    "# MLOPT Knapsack Example"
   ]
  },
  {
   "cell_type": "code",
   "execution_count": 1,
   "metadata": {},
   "outputs": [
    {
     "name": "stderr",
     "output_type": "stream",
     "text": [
      "/Users/sidereus/Dropbox/research/code/projects/learning_opt/mlopt/mlopt/utils.py:9: TqdmExperimentalWarning: Using `tqdm.autonotebook.tqdm` in notebook mode. Use `tqdm.tqdm` instead to force console mode (e.g. in jupyter console)\n",
      "  from tqdm.autonotebook import tqdm\n"
     ]
    }
   ],
   "source": [
    "import numpy as np\n",
    "import cvxpy as cp\n",
    "import pandas as pd\n",
    "import logging\n",
    "\n",
    "import mlopt\n",
    "from mlopt.sampling import uniform_sphere_sample\n",
    "from mlopt.learners.pytorch.pytorch import PyTorchNeuralNet\n",
    "from mlopt.utils import n_features, pandas2array"
   ]
  },
  {
   "cell_type": "markdown",
   "metadata": {},
   "source": [
    "## Generate problem data"
   ]
  },
  {
   "cell_type": "code",
   "execution_count": 2,
   "metadata": {},
   "outputs": [],
   "source": [
    "np.random.seed(1)  # Reset random seed for reproducibility\n",
    "\n",
    "# Variable\n",
    "n = 10\n",
    "x = cp.Variable(n, integer=True)\n",
    "\n",
    "# Cost\n",
    "c = np.random.rand(n)\n",
    "\n",
    "# Weights\n",
    "a = cp.Parameter(n, nonneg=True, name='a')\n",
    "x_u = cp.Parameter(n, nonneg=True, name='x_u')\n",
    "b = 0.5 * n"
   ]
  },
  {
   "cell_type": "markdown",
   "metadata": {},
   "source": [
    "## Create optimizer object"
   ]
  },
  {
   "cell_type": "code",
   "execution_count": 3,
   "metadata": {},
   "outputs": [],
   "source": [
    "# Problem\n",
    "cost = - c * x\n",
    "constraints = [a * x <= b,\n",
    "               0 <= x, x <= x_u]\n",
    "\n",
    "\n",
    "# Define optimizer\n",
    "# If you just want to remove too many messages\n",
    "# change INFO to WARNING\n",
    "m = mlopt.Optimizer(cp.Minimize(cost), constraints,\n",
    "                    log_level=logging.INFO)"
   ]
  },
  {
   "cell_type": "markdown",
   "metadata": {},
   "source": [
    "## Define training and testing parameters"
   ]
  },
  {
   "cell_type": "code",
   "execution_count": 4,
   "metadata": {},
   "outputs": [],
   "source": [
    "# Average request\n",
    "theta_bar = 2 * np.ones(2 * n)\n",
    "radius = 1.0\n",
    "\n",
    "\n",
    "def sample(theta_bar, radius, n=100):\n",
    "\n",
    "    # Sample points from multivariate ball\n",
    "    ndim = int(len(theta_bar)/2)\n",
    "    X_a = uniform_sphere_sample(theta_bar[:ndim], radius, n=n)\n",
    "    X_u = uniform_sphere_sample(theta_bar[ndim:], radius, n=n)\n",
    "\n",
    "    df = pd.DataFrame({\n",
    "        'a': list(X_a),\n",
    "        'x_u': list(X_u)\n",
    "        })\n",
    "\n",
    "    return df\n",
    "\n",
    "\n",
    "# Training and testing data\n",
    "n_train = 1000\n",
    "n_test = 100\n",
    "theta_train = sample(theta_bar, radius, n=n_train)\n",
    "theta_test = sample(theta_bar, radius, n=n_test)"
   ]
  },
  {
   "cell_type": "markdown",
   "metadata": {},
   "source": [
    "## Train predictor (Pytorch)"
   ]
  },
  {
   "cell_type": "code",
   "execution_count": 5,
   "metadata": {},
   "outputs": [
    {
     "name": "stdout",
     "output_type": "stream",
     "text": [
      "Use new data\n",
      "Compute tight constraints for training set (n_jobs = 4)\n"
     ]
    },
    {
     "data": {
      "application/vnd.jupyter.widget-view+json": {
       "model_id": "02e1b206d8a34714a1ab7b90999fbe1b",
       "version_major": 2,
       "version_minor": 0
      },
      "text/plain": [
       "HBox(children=(FloatProgress(value=0.0, max=1000.0), HTML(value='')))"
      ]
     },
     "metadata": {},
     "output_type": "display_data"
    },
    {
     "name": "stdout",
     "output_type": "stream",
     "text": [
      "\n",
      "Encoding strategies\n",
      "Getting unique set of strategies\n",
      "Found 43 unique strategies\n",
      "Caching KKT solver factors for each strategy (it works only for QP-representable problems with parameters only in constraints RHS)\n"
     ]
    },
    {
     "data": {
      "application/vnd.jupyter.widget-view+json": {
       "model_id": "db3a5d3c1e9e423581c6a06f06294cf5",
       "version_major": 2,
       "version_minor": 0
      },
      "text/plain": [
       "HBox(children=(FloatProgress(value=0.0, max=43.0), HTML(value='')))"
      ]
     },
     "metadata": {},
     "output_type": "display_data"
    },
    {
     "name": "stdout",
     "output_type": "stream",
     "text": [
      "\n",
      "Using CPU with Pytorch\n"
     ]
    },
    {
     "data": {
      "application/vnd.jupyter.widget-view+json": {
       "model_id": "33ce4ee20b6b42feba1416e9292317d2",
       "version_major": 2,
       "version_minor": 0
      },
      "text/plain": [
       "HBox(children=(FloatProgress(value=0.0, description='Converting dataframe to array', max=1000.0, style=Progres…"
      ]
     },
     "metadata": {},
     "output_type": "display_data"
    },
    {
     "name": "stdout",
     "output_type": "stream",
     "text": [
      "\n",
      "Split dataset in 900 training and 100 validation\n",
      "Train Neural Network with 3 sets of parameters, 20 inputs, 43 outputs\n",
      "Learning Neural Network with parameters: {'learning_rate': 0.001, 'batch_size': 32, 'n_epochs': 10, 'n_hidden': 31}\n",
      "Epoch 1/10\n"
     ]
    },
    {
     "data": {
      "application/vnd.jupyter.widget-view+json": {
       "model_id": "c8850363d0e845a7a8f16ca24e8aebc5",
       "version_major": 2,
       "version_minor": 0
      },
      "text/plain": [
       "HBox(children=(FloatProgress(value=0.0, max=29.0), HTML(value='')))"
      ]
     },
     "metadata": {},
     "output_type": "display_data"
    },
    {
     "name": "stdout",
     "output_type": "stream",
     "text": [
      "\n",
      "- Train metrics: accuracy: 0.000 ; loss: 3.727\n",
      "- Eval metrics: accuracy: 0.410 ; loss: 3.515\n",
      "Epoch 2/10\n"
     ]
    },
    {
     "data": {
      "application/vnd.jupyter.widget-view+json": {
       "model_id": "2df4bc82777c4502adab7677f4feb8dd",
       "version_major": 2,
       "version_minor": 0
      },
      "text/plain": [
       "HBox(children=(FloatProgress(value=0.0, max=29.0), HTML(value='')))"
      ]
     },
     "metadata": {},
     "output_type": "display_data"
    },
    {
     "name": "stdout",
     "output_type": "stream",
     "text": [
      "\n",
      "- Train metrics: accuracy: 0.375 ; loss: 3.536\n",
      "- Eval metrics: accuracy: 0.400 ; loss: 2.268\n",
      "Epoch 3/10\n"
     ]
    },
    {
     "data": {
      "application/vnd.jupyter.widget-view+json": {
       "model_id": "48436442ac7944c78b78ad16c4ac7502",
       "version_major": 2,
       "version_minor": 0
      },
      "text/plain": [
       "HBox(children=(FloatProgress(value=0.0, max=29.0), HTML(value='')))"
      ]
     },
     "metadata": {},
     "output_type": "display_data"
    },
    {
     "name": "stdout",
     "output_type": "stream",
     "text": [
      "\n",
      "- Train metrics: accuracy: 0.375 ; loss: 2.421\n",
      "- Eval metrics: accuracy: 0.400 ; loss: 2.136\n",
      "Epoch 4/10\n"
     ]
    },
    {
     "data": {
      "application/vnd.jupyter.widget-view+json": {
       "model_id": "b73b8fa606b441b199021ea9ff633c06",
       "version_major": 2,
       "version_minor": 0
      },
      "text/plain": [
       "HBox(children=(FloatProgress(value=0.0, max=29.0), HTML(value='')))"
      ]
     },
     "metadata": {},
     "output_type": "display_data"
    },
    {
     "name": "stdout",
     "output_type": "stream",
     "text": [
      "\n",
      "- Train metrics: accuracy: 0.375 ; loss: 2.251\n",
      "- Eval metrics: accuracy: 0.400 ; loss: 2.128\n",
      "Epoch 5/10\n"
     ]
    },
    {
     "data": {
      "application/vnd.jupyter.widget-view+json": {
       "model_id": "96e214d5754d4d5e951919645157cdc6",
       "version_major": 2,
       "version_minor": 0
      },
      "text/plain": [
       "HBox(children=(FloatProgress(value=0.0, max=29.0), HTML(value='')))"
      ]
     },
     "metadata": {},
     "output_type": "display_data"
    },
    {
     "name": "stdout",
     "output_type": "stream",
     "text": [
      "\n",
      "- Train metrics: accuracy: 0.375 ; loss: 2.243\n",
      "- Eval metrics: accuracy: 0.400 ; loss: 2.122\n",
      "Epoch 6/10\n"
     ]
    },
    {
     "data": {
      "application/vnd.jupyter.widget-view+json": {
       "model_id": "af220aa2f08940dda97e20f1f5f0ad31",
       "version_major": 2,
       "version_minor": 0
      },
      "text/plain": [
       "HBox(children=(FloatProgress(value=0.0, max=29.0), HTML(value='')))"
      ]
     },
     "metadata": {},
     "output_type": "display_data"
    },
    {
     "name": "stdout",
     "output_type": "stream",
     "text": [
      "\n",
      "- Train metrics: accuracy: 0.375 ; loss: 2.240\n",
      "- Eval metrics: accuracy: 0.410 ; loss: 2.114\n",
      "Epoch 7/10\n"
     ]
    },
    {
     "data": {
      "application/vnd.jupyter.widget-view+json": {
       "model_id": "e533dfe5f44742678590ff72ce1cebc7",
       "version_major": 2,
       "version_minor": 0
      },
      "text/plain": [
       "HBox(children=(FloatProgress(value=0.0, max=29.0), HTML(value='')))"
      ]
     },
     "metadata": {},
     "output_type": "display_data"
    },
    {
     "name": "stdout",
     "output_type": "stream",
     "text": [
      "\n",
      "- Train metrics: accuracy: 0.375 ; loss: 2.238\n",
      "- Eval metrics: accuracy: 0.410 ; loss: 2.105\n",
      "Epoch 8/10\n"
     ]
    },
    {
     "data": {
      "application/vnd.jupyter.widget-view+json": {
       "model_id": "dd5acb7c94e74ce4a9445350d42fd054",
       "version_major": 2,
       "version_minor": 0
      },
      "text/plain": [
       "HBox(children=(FloatProgress(value=0.0, max=29.0), HTML(value='')))"
      ]
     },
     "metadata": {},
     "output_type": "display_data"
    },
    {
     "name": "stdout",
     "output_type": "stream",
     "text": [
      "\n",
      "- Train metrics: accuracy: 0.375 ; loss: 2.235\n",
      "- Eval metrics: accuracy: 0.420 ; loss: 2.093\n",
      "Epoch 9/10\n"
     ]
    },
    {
     "data": {
      "application/vnd.jupyter.widget-view+json": {
       "model_id": "05cfb66931a748438e69d2126f0e38a6",
       "version_major": 2,
       "version_minor": 0
      },
      "text/plain": [
       "HBox(children=(FloatProgress(value=0.0, max=29.0), HTML(value='')))"
      ]
     },
     "metadata": {},
     "output_type": "display_data"
    },
    {
     "name": "stdout",
     "output_type": "stream",
     "text": [
      "\n",
      "- Train metrics: accuracy: 0.375 ; loss: 2.230\n",
      "- Eval metrics: accuracy: 0.440 ; loss: 2.076\n",
      "Epoch 10/10\n"
     ]
    },
    {
     "data": {
      "application/vnd.jupyter.widget-view+json": {
       "model_id": "e6f686ab3e7b4d20b0aed62043cebf3f",
       "version_major": 2,
       "version_minor": 0
      },
      "text/plain": [
       "HBox(children=(FloatProgress(value=0.0, max=29.0), HTML(value='')))"
      ]
     },
     "metadata": {},
     "output_type": "display_data"
    },
    {
     "name": "stdout",
     "output_type": "stream",
     "text": [
      "\n",
      "- Train metrics: accuracy: 0.375 ; loss: 2.223\n",
      "- Eval metrics: accuracy: 0.500 ; loss: 2.051\n",
      "Learning Neural Network with parameters: {'learning_rate': 0.01, 'batch_size': 32, 'n_epochs': 10, 'n_hidden': 31}\n",
      "Epoch 1/10\n"
     ]
    },
    {
     "data": {
      "application/vnd.jupyter.widget-view+json": {
       "model_id": "cb7cd0a807bd4ab58192018ac425bb27",
       "version_major": 2,
       "version_minor": 0
      },
      "text/plain": [
       "HBox(children=(FloatProgress(value=0.0, max=29.0), HTML(value='')))"
      ]
     },
     "metadata": {},
     "output_type": "display_data"
    },
    {
     "name": "stdout",
     "output_type": "stream",
     "text": [
      "\n",
      "- Train metrics: accuracy: 0.188 ; loss: 3.724\n",
      "- Eval metrics: accuracy: 0.430 ; loss: 3.188\n",
      "Epoch 2/10\n"
     ]
    },
    {
     "data": {
      "application/vnd.jupyter.widget-view+json": {
       "model_id": "f1ccf7a5be924f8ba2c2d3913f4f6958",
       "version_major": 2,
       "version_minor": 0
      },
      "text/plain": [
       "HBox(children=(FloatProgress(value=0.0, max=29.0), HTML(value='')))"
      ]
     },
     "metadata": {},
     "output_type": "display_data"
    },
    {
     "name": "stdout",
     "output_type": "stream",
     "text": [
      "\n",
      "- Train metrics: accuracy: 0.375 ; loss: 3.424\n",
      "- Eval metrics: accuracy: 0.510 ; loss: 2.047\n",
      "Epoch 3/10\n"
     ]
    },
    {
     "data": {
      "application/vnd.jupyter.widget-view+json": {
       "model_id": "cf2ae2a3f4d1411095b59b0a3af0347d",
       "version_major": 2,
       "version_minor": 0
      },
      "text/plain": [
       "HBox(children=(FloatProgress(value=0.0, max=29.0), HTML(value='')))"
      ]
     },
     "metadata": {},
     "output_type": "display_data"
    },
    {
     "name": "stdout",
     "output_type": "stream",
     "text": [
      "\n",
      "- Train metrics: accuracy: 0.500 ; loss: 2.025\n",
      "- Eval metrics: accuracy: 0.520 ; loss: 1.941\n",
      "Epoch 4/10\n"
     ]
    },
    {
     "data": {
      "application/vnd.jupyter.widget-view+json": {
       "model_id": "bb58202bd8074e37a7fd5993f1729ea7",
       "version_major": 2,
       "version_minor": 0
      },
      "text/plain": [
       "HBox(children=(FloatProgress(value=0.0, max=29.0), HTML(value='')))"
      ]
     },
     "metadata": {},
     "output_type": "display_data"
    },
    {
     "name": "stdout",
     "output_type": "stream",
     "text": [
      "\n",
      "- Train metrics: accuracy: 0.531 ; loss: 1.990\n",
      "- Eval metrics: accuracy: 0.550 ; loss: 1.801\n",
      "Epoch 5/10\n"
     ]
    },
    {
     "data": {
      "application/vnd.jupyter.widget-view+json": {
       "model_id": "03103b1c73914ff1afd8911349da5864",
       "version_major": 2,
       "version_minor": 0
      },
      "text/plain": [
       "HBox(children=(FloatProgress(value=0.0, max=29.0), HTML(value='')))"
      ]
     },
     "metadata": {},
     "output_type": "display_data"
    },
    {
     "name": "stdout",
     "output_type": "stream",
     "text": [
      "\n",
      "- Train metrics: accuracy: 0.531 ; loss: 1.871\n",
      "- Eval metrics: accuracy: 0.650 ; loss: 1.689\n",
      "Epoch 6/10\n"
     ]
    },
    {
     "data": {
      "application/vnd.jupyter.widget-view+json": {
       "model_id": "566754e6b86348ecab47587fb66e3ca2",
       "version_major": 2,
       "version_minor": 0
      },
      "text/plain": [
       "HBox(children=(FloatProgress(value=0.0, max=29.0), HTML(value='')))"
      ]
     },
     "metadata": {},
     "output_type": "display_data"
    },
    {
     "name": "stdout",
     "output_type": "stream",
     "text": [
      "\n",
      "- Train metrics: accuracy: 0.594 ; loss: 1.825\n",
      "- Eval metrics: accuracy: 0.580 ; loss: 1.652\n",
      "Epoch 7/10\n"
     ]
    },
    {
     "data": {
      "application/vnd.jupyter.widget-view+json": {
       "model_id": "8aa9553b0b424177936d41de3e2c37e0",
       "version_major": 2,
       "version_minor": 0
      },
      "text/plain": [
       "HBox(children=(FloatProgress(value=0.0, max=29.0), HTML(value='')))"
      ]
     },
     "metadata": {},
     "output_type": "display_data"
    },
    {
     "name": "stdout",
     "output_type": "stream",
     "text": [
      "\n",
      "- Train metrics: accuracy: 0.594 ; loss: 1.909\n",
      "- Eval metrics: accuracy: 0.630 ; loss: 1.622\n",
      "Epoch 8/10\n"
     ]
    },
    {
     "data": {
      "application/vnd.jupyter.widget-view+json": {
       "model_id": "5842548e1c5d45aeb2a9e14b1e5009b0",
       "version_major": 2,
       "version_minor": 0
      },
      "text/plain": [
       "HBox(children=(FloatProgress(value=0.0, max=29.0), HTML(value='')))"
      ]
     },
     "metadata": {},
     "output_type": "display_data"
    },
    {
     "name": "stdout",
     "output_type": "stream",
     "text": [
      "\n",
      "- Train metrics: accuracy: 0.594 ; loss: 1.893\n",
      "- Eval metrics: accuracy: 0.610 ; loss: 1.597\n",
      "Epoch 9/10\n"
     ]
    },
    {
     "data": {
      "application/vnd.jupyter.widget-view+json": {
       "model_id": "1a2b386da58140ca8a2ad92360a4b783",
       "version_major": 2,
       "version_minor": 0
      },
      "text/plain": [
       "HBox(children=(FloatProgress(value=0.0, max=29.0), HTML(value='')))"
      ]
     },
     "metadata": {},
     "output_type": "display_data"
    },
    {
     "name": "stdout",
     "output_type": "stream",
     "text": [
      "\n",
      "- Train metrics: accuracy: 0.625 ; loss: 1.823\n",
      "- Eval metrics: accuracy: 0.600 ; loss: 1.578\n",
      "Epoch 10/10\n"
     ]
    },
    {
     "data": {
      "application/vnd.jupyter.widget-view+json": {
       "model_id": "94b39746fdca47cca0c84366970cf17a",
       "version_major": 2,
       "version_minor": 0
      },
      "text/plain": [
       "HBox(children=(FloatProgress(value=0.0, max=29.0), HTML(value='')))"
      ]
     },
     "metadata": {},
     "output_type": "display_data"
    },
    {
     "name": "stdout",
     "output_type": "stream",
     "text": [
      "\n",
      "- Train metrics: accuracy: 0.625 ; loss: 1.750\n",
      "- Eval metrics: accuracy: 0.540 ; loss: 1.677\n",
      "Learning Neural Network with parameters: {'learning_rate': 0.1, 'batch_size': 32, 'n_epochs': 10, 'n_hidden': 31}\n",
      "Epoch 1/10\n"
     ]
    },
    {
     "data": {
      "application/vnd.jupyter.widget-view+json": {
       "model_id": "799447b42a324eeaaa35ecc805ad527f",
       "version_major": 2,
       "version_minor": 0
      },
      "text/plain": [
       "HBox(children=(FloatProgress(value=0.0, max=29.0), HTML(value='')))"
      ]
     },
     "metadata": {},
     "output_type": "display_data"
    },
    {
     "name": "stdout",
     "output_type": "stream",
     "text": [
      "\n",
      "- Train metrics: accuracy: 0.188 ; loss: 3.724\n",
      "- Eval metrics: accuracy: 0.430 ; loss: 4.455\n",
      "Epoch 2/10\n"
     ]
    },
    {
     "data": {
      "application/vnd.jupyter.widget-view+json": {
       "model_id": "9215539cbeb84cf3b8483c1090c1d85b",
       "version_major": 2,
       "version_minor": 0
      },
      "text/plain": [
       "HBox(children=(FloatProgress(value=0.0, max=29.0), HTML(value='')))"
      ]
     },
     "metadata": {},
     "output_type": "display_data"
    },
    {
     "name": "stdout",
     "output_type": "stream",
     "text": [
      "\n",
      "- Train metrics: accuracy: 0.406 ; loss: 5.654\n",
      "- Eval metrics: accuracy: 0.320 ; loss: 2.153\n",
      "Epoch 3/10\n"
     ]
    },
    {
     "data": {
      "application/vnd.jupyter.widget-view+json": {
       "model_id": "acb6f2300dc345cbb975c958337dd493",
       "version_major": 2,
       "version_minor": 0
      },
      "text/plain": [
       "HBox(children=(FloatProgress(value=0.0, max=29.0), HTML(value='')))"
      ]
     },
     "metadata": {},
     "output_type": "display_data"
    },
    {
     "name": "stdout",
     "output_type": "stream",
     "text": [
      "\n",
      "- Train metrics: accuracy: 0.250 ; loss: 2.332\n",
      "- Eval metrics: accuracy: 0.320 ; loss: 2.163\n",
      "Epoch 4/10\n"
     ]
    },
    {
     "data": {
      "application/vnd.jupyter.widget-view+json": {
       "model_id": "5a641c175377417db87139eff2e2e9e4",
       "version_major": 2,
       "version_minor": 0
      },
      "text/plain": [
       "HBox(children=(FloatProgress(value=0.0, max=29.0), HTML(value='')))"
      ]
     },
     "metadata": {},
     "output_type": "display_data"
    },
    {
     "name": "stdout",
     "output_type": "stream",
     "text": [
      "\n",
      "- Train metrics: accuracy: 0.250 ; loss: 2.301\n",
      "- Eval metrics: accuracy: 0.400 ; loss: 2.163\n",
      "Epoch 5/10\n"
     ]
    },
    {
     "data": {
      "application/vnd.jupyter.widget-view+json": {
       "model_id": "33cf13cf88b74dee80518b3847864b13",
       "version_major": 2,
       "version_minor": 0
      },
      "text/plain": [
       "HBox(children=(FloatProgress(value=0.0, max=29.0), HTML(value='')))"
      ]
     },
     "metadata": {},
     "output_type": "display_data"
    },
    {
     "name": "stdout",
     "output_type": "stream",
     "text": [
      "\n",
      "- Train metrics: accuracy: 0.375 ; loss: 2.276\n",
      "- Eval metrics: accuracy: 0.400 ; loss: 2.164\n",
      "Epoch 6/10\n"
     ]
    },
    {
     "data": {
      "application/vnd.jupyter.widget-view+json": {
       "model_id": "5af05e00a9854a22a4bfe5aad7476c1f",
       "version_major": 2,
       "version_minor": 0
      },
      "text/plain": [
       "HBox(children=(FloatProgress(value=0.0, max=29.0), HTML(value='')))"
      ]
     },
     "metadata": {},
     "output_type": "display_data"
    },
    {
     "name": "stdout",
     "output_type": "stream",
     "text": [
      "\n",
      "- Train metrics: accuracy: 0.375 ; loss: 2.273\n",
      "- Eval metrics: accuracy: 0.400 ; loss: 2.165\n",
      "Epoch 7/10\n"
     ]
    },
    {
     "data": {
      "application/vnd.jupyter.widget-view+json": {
       "model_id": "efafa896ab7f4888ac15cf4bd8ce1181",
       "version_major": 2,
       "version_minor": 0
      },
      "text/plain": [
       "HBox(children=(FloatProgress(value=0.0, max=29.0), HTML(value='')))"
      ]
     },
     "metadata": {},
     "output_type": "display_data"
    },
    {
     "name": "stdout",
     "output_type": "stream",
     "text": [
      "\n",
      "- Train metrics: accuracy: 0.375 ; loss: 2.270\n",
      "- Eval metrics: accuracy: 0.400 ; loss: 2.165\n",
      "Epoch 8/10\n"
     ]
    },
    {
     "data": {
      "application/vnd.jupyter.widget-view+json": {
       "model_id": "254fdac9ceaa4c8bbad97443981b27ab",
       "version_major": 2,
       "version_minor": 0
      },
      "text/plain": [
       "HBox(children=(FloatProgress(value=0.0, max=29.0), HTML(value='')))"
      ]
     },
     "metadata": {},
     "output_type": "display_data"
    },
    {
     "name": "stdout",
     "output_type": "stream",
     "text": [
      "\n",
      "- Train metrics: accuracy: 0.375 ; loss: 2.269\n",
      "- Eval metrics: accuracy: 0.400 ; loss: 2.165\n",
      "Epoch 9/10\n"
     ]
    },
    {
     "data": {
      "application/vnd.jupyter.widget-view+json": {
       "model_id": "a11ad598b2db4f5786b2b7474a65ed2e",
       "version_major": 2,
       "version_minor": 0
      },
      "text/plain": [
       "HBox(children=(FloatProgress(value=0.0, max=29.0), HTML(value='')))"
      ]
     },
     "metadata": {},
     "output_type": "display_data"
    },
    {
     "name": "stdout",
     "output_type": "stream",
     "text": [
      "\n",
      "- Train metrics: accuracy: 0.375 ; loss: 2.269\n",
      "- Eval metrics: accuracy: 0.400 ; loss: 2.165\n",
      "Epoch 10/10\n"
     ]
    },
    {
     "data": {
      "application/vnd.jupyter.widget-view+json": {
       "model_id": "19170a8b7c6047a0a5c0f2a8df805de8",
       "version_major": 2,
       "version_minor": 0
      },
      "text/plain": [
       "HBox(children=(FloatProgress(value=0.0, max=29.0), HTML(value='')))"
      ]
     },
     "metadata": {},
     "output_type": "display_data"
    },
    {
     "name": "stdout",
     "output_type": "stream",
     "text": [
      "\n",
      "- Train metrics: accuracy: 0.375 ; loss: 2.269\n",
      "- Eval metrics: accuracy: 0.400 ; loss: 2.165\n",
      "Best parameters\n",
      "{'learning_rate': 0.01, 'batch_size': 32, 'n_epochs': 10, 'n_hidden': 31}\n",
      "Train neural network with best parameters\n",
      "{'learning_rate': 0.01, 'batch_size': 32, 'n_epochs': 10, 'n_hidden': 31}\n",
      "Learning Neural Network with parameters: {'learning_rate': 0.01, 'batch_size': 32, 'n_epochs': 10, 'n_hidden': 31}\n",
      "Epoch 1/10\n"
     ]
    },
    {
     "data": {
      "application/vnd.jupyter.widget-view+json": {
       "model_id": "209080063d614accb6524e2aacf873ae",
       "version_major": 2,
       "version_minor": 0
      },
      "text/plain": [
       "HBox(children=(FloatProgress(value=0.0, max=29.0), HTML(value='')))"
      ]
     },
     "metadata": {},
     "output_type": "display_data"
    },
    {
     "name": "stdout",
     "output_type": "stream",
     "text": [
      "\n",
      "- Train metrics: accuracy: 0.188 ; loss: 3.724\n",
      "- Eval metrics: accuracy: 0.430 ; loss: 3.188\n",
      "Epoch 2/10\n"
     ]
    },
    {
     "data": {
      "application/vnd.jupyter.widget-view+json": {
       "model_id": "b1d94bd969e44949873ad690aa86c41b",
       "version_major": 2,
       "version_minor": 0
      },
      "text/plain": [
       "HBox(children=(FloatProgress(value=0.0, max=29.0), HTML(value='')))"
      ]
     },
     "metadata": {},
     "output_type": "display_data"
    },
    {
     "name": "stdout",
     "output_type": "stream",
     "text": [
      "\n",
      "- Train metrics: accuracy: 0.375 ; loss: 3.424\n",
      "- Eval metrics: accuracy: 0.510 ; loss: 2.047\n",
      "Epoch 3/10\n"
     ]
    },
    {
     "data": {
      "application/vnd.jupyter.widget-view+json": {
       "model_id": "214e7649e0b34ab38f473253a2b6dc80",
       "version_major": 2,
       "version_minor": 0
      },
      "text/plain": [
       "HBox(children=(FloatProgress(value=0.0, max=29.0), HTML(value='')))"
      ]
     },
     "metadata": {},
     "output_type": "display_data"
    },
    {
     "name": "stdout",
     "output_type": "stream",
     "text": [
      "\n",
      "- Train metrics: accuracy: 0.500 ; loss: 2.025\n",
      "- Eval metrics: accuracy: 0.520 ; loss: 1.941\n",
      "Epoch 4/10\n"
     ]
    },
    {
     "data": {
      "application/vnd.jupyter.widget-view+json": {
       "model_id": "dd5e5cf576164feab5950bcd92c13182",
       "version_major": 2,
       "version_minor": 0
      },
      "text/plain": [
       "HBox(children=(FloatProgress(value=0.0, max=29.0), HTML(value='')))"
      ]
     },
     "metadata": {},
     "output_type": "display_data"
    },
    {
     "name": "stdout",
     "output_type": "stream",
     "text": [
      "\n",
      "- Train metrics: accuracy: 0.531 ; loss: 1.990\n",
      "- Eval metrics: accuracy: 0.550 ; loss: 1.801\n",
      "Epoch 5/10\n"
     ]
    },
    {
     "data": {
      "application/vnd.jupyter.widget-view+json": {
       "model_id": "c51abc4b450c482c80dd48f5a23edf77",
       "version_major": 2,
       "version_minor": 0
      },
      "text/plain": [
       "HBox(children=(FloatProgress(value=0.0, max=29.0), HTML(value='')))"
      ]
     },
     "metadata": {},
     "output_type": "display_data"
    },
    {
     "name": "stdout",
     "output_type": "stream",
     "text": [
      "\n",
      "- Train metrics: accuracy: 0.531 ; loss: 1.871\n",
      "- Eval metrics: accuracy: 0.650 ; loss: 1.689\n",
      "Epoch 6/10\n"
     ]
    },
    {
     "data": {
      "application/vnd.jupyter.widget-view+json": {
       "model_id": "508f6d4a367f45d99a921544b455bdb7",
       "version_major": 2,
       "version_minor": 0
      },
      "text/plain": [
       "HBox(children=(FloatProgress(value=0.0, max=29.0), HTML(value='')))"
      ]
     },
     "metadata": {},
     "output_type": "display_data"
    },
    {
     "name": "stdout",
     "output_type": "stream",
     "text": [
      "\n",
      "- Train metrics: accuracy: 0.594 ; loss: 1.825\n",
      "- Eval metrics: accuracy: 0.580 ; loss: 1.652\n",
      "Epoch 7/10\n"
     ]
    },
    {
     "data": {
      "application/vnd.jupyter.widget-view+json": {
       "model_id": "c9c495b6b6304d159bbb65304fdaaf61",
       "version_major": 2,
       "version_minor": 0
      },
      "text/plain": [
       "HBox(children=(FloatProgress(value=0.0, max=29.0), HTML(value='')))"
      ]
     },
     "metadata": {},
     "output_type": "display_data"
    },
    {
     "name": "stdout",
     "output_type": "stream",
     "text": [
      "\n",
      "- Train metrics: accuracy: 0.594 ; loss: 1.909\n",
      "- Eval metrics: accuracy: 0.630 ; loss: 1.622\n",
      "Epoch 8/10\n"
     ]
    },
    {
     "data": {
      "application/vnd.jupyter.widget-view+json": {
       "model_id": "550589f37212440cb765dd7981e42ade",
       "version_major": 2,
       "version_minor": 0
      },
      "text/plain": [
       "HBox(children=(FloatProgress(value=0.0, max=29.0), HTML(value='')))"
      ]
     },
     "metadata": {},
     "output_type": "display_data"
    },
    {
     "name": "stdout",
     "output_type": "stream",
     "text": [
      "\n",
      "- Train metrics: accuracy: 0.594 ; loss: 1.893\n",
      "- Eval metrics: accuracy: 0.610 ; loss: 1.597\n",
      "Epoch 9/10\n"
     ]
    },
    {
     "data": {
      "application/vnd.jupyter.widget-view+json": {
       "model_id": "76cd7255749543a5ab43e02c6cd90ed5",
       "version_major": 2,
       "version_minor": 0
      },
      "text/plain": [
       "HBox(children=(FloatProgress(value=0.0, max=29.0), HTML(value='')))"
      ]
     },
     "metadata": {},
     "output_type": "display_data"
    },
    {
     "name": "stdout",
     "output_type": "stream",
     "text": [
      "\n",
      "- Train metrics: accuracy: 0.625 ; loss: 1.823\n",
      "- Eval metrics: accuracy: 0.600 ; loss: 1.578\n",
      "Epoch 10/10\n"
     ]
    },
    {
     "data": {
      "application/vnd.jupyter.widget-view+json": {
       "model_id": "2e20993f3ee14cb7b2a4db98b7e1c502",
       "version_major": 2,
       "version_minor": 0
      },
      "text/plain": [
       "HBox(children=(FloatProgress(value=0.0, max=29.0), HTML(value='')))"
      ]
     },
     "metadata": {},
     "output_type": "display_data"
    },
    {
     "name": "stdout",
     "output_type": "stream",
     "text": [
      "\n",
      "- Train metrics: accuracy: 0.625 ; loss: 1.750\n",
      "- Eval metrics: accuracy: 0.540 ; loss: 1.677\n"
     ]
    }
   ],
   "source": [
    "# Dictionary of different parameters.\n",
    "# The cross validation will try all of the possible\n",
    "# combinations\n",
    "params = {\n",
    "    'learning_rate': [0.001, 0.01, 0.1],\n",
    "    'batch_size': [32],\n",
    "    'n_epochs': [10]\n",
    "}\n",
    "m.train(theta_train, learner=mlopt.PYTORCH, params=params)"
   ]
  },
  {
   "cell_type": "markdown",
   "metadata": {},
   "source": [
    "## Benchmark on testing dataset"
   ]
  },
  {
   "cell_type": "code",
   "execution_count": 6,
   "metadata": {},
   "outputs": [
    {
     "name": "stdout",
     "output_type": "stream",
     "text": [
      "Performance evaluation\n",
      "Compute tight constraints for test set (n_jobs = 1)\n"
     ]
    },
    {
     "data": {
      "application/vnd.jupyter.widget-view+json": {
       "model_id": "67487098f81f45509c33e17520bbe45d",
       "version_major": 2,
       "version_minor": 0
      },
      "text/plain": [
       "HBox(children=(FloatProgress(value=0.0), HTML(value='')))"
      ]
     },
     "metadata": {},
     "output_type": "display_data"
    },
    {
     "name": "stdout",
     "output_type": "stream",
     "text": [
      "Academic license - for non-commercial use only\n",
      "\n"
     ]
    },
    {
     "data": {
      "application/vnd.jupyter.widget-view+json": {
       "model_id": "75576995cd9b4bde91b500ae57032e6a",
       "version_major": 2,
       "version_minor": 0
      },
      "text/plain": [
       "HBox(children=(FloatProgress(value=0.0, description='Converting dataframe to array', style=ProgressStyle(descr…"
      ]
     },
     "metadata": {},
     "output_type": "display_data"
    },
    {
     "name": "stdout",
     "output_type": "stream",
     "text": [
      "\n",
      "Predict tight constraints for test set\n"
     ]
    },
    {
     "data": {
      "application/vnd.jupyter.widget-view+json": {
       "model_id": "1021e2268a8f42e68e92a9d189ff46c3",
       "version_major": 2,
       "version_minor": 0
      },
      "text/plain": [
       "HBox(children=(FloatProgress(value=0.0), HTML(value='')))"
      ]
     },
     "metadata": {},
     "output_type": "display_data"
    },
    {
     "name": "stdout",
     "output_type": "stream",
     "text": [
      "\n",
      "Accuracy: 81.00 \n"
     ]
    }
   ],
   "source": [
    "results = m.performance(theta_test)\n",
    "print(\"Accuracy: %.2f \" % results[0]['accuracy'])"
   ]
  },
  {
   "cell_type": "markdown",
   "metadata": {},
   "source": [
    "## Save training data"
   ]
  },
  {
   "cell_type": "code",
   "execution_count": null,
   "metadata": {},
   "outputs": [],
   "source": [
    "m.save_training_data(\"training_data.pkl\", delete_existing=True)"
   ]
  },
  {
   "cell_type": "markdown",
   "metadata": {},
   "source": [
    "## Create new solver and train passing loaded data"
   ]
  },
  {
   "cell_type": "code",
   "execution_count": null,
   "metadata": {},
   "outputs": [],
   "source": [
    "m = mlopt.Optimizer(cp.Minimize(cost), constraints)\n",
    "m.load_training_data(\"training_data.pkl\")\n",
    "m.train(learner=mlopt.PYTORCH, params=params)  # Train after loading samples\n",
    "\n",
    "results = m.performance(theta_test)\n",
    "print(\"Accuracy: %.2f \" % results[0]['accuracy'])"
   ]
  },
  {
   "cell_type": "markdown",
   "metadata": {},
   "source": [
    "## Predict single point"
   ]
  },
  {
   "cell_type": "code",
   "execution_count": null,
   "metadata": {},
   "outputs": [],
   "source": [
    "# Predict single point\n",
    "theta = theta_test.iloc[0]\n",
    "root = logging.getLogger('mlopt')\n",
    "root.setLevel(logging.DEBUG)\n",
    "result_single_point = m.solve(theta)\n",
    "print(result_single_point)"
   ]
  },
  {
   "cell_type": "markdown",
   "metadata": {},
   "source": [
    "## Learn directly from points (talk directly to pytorch)"
   ]
  },
  {
   "cell_type": "code",
   "execution_count": null,
   "metadata": {},
   "outputs": [],
   "source": [
    "y = m.y_train\n",
    "X = m.X_train\n",
    "learner = PyTorchNeuralNet(n_input=n_features(X),\n",
    "                           n_classes=len(np.unique(y)),\n",
    "                           n_best=3,\n",
    "                           params=params)\n",
    "# Train learner\n",
    "learner.train(pandas2array(X), y)\n",
    "\n",
    "# Predict\n",
    "X_pred = X.iloc[0]\n",
    "y_pred = learner.predict(pandas2array(X_pred))  # n_best most likely classes"
   ]
  },
  {
   "cell_type": "code",
   "execution_count": null,
   "metadata": {},
   "outputs": [],
   "source": []
  }
 ],
 "metadata": {
  "kernelspec": {
   "display_name": "Python 3",
   "language": "python",
   "name": "python3"
  },
  "language_info": {
   "codemirror_mode": {
    "name": "ipython",
    "version": 3
   },
   "file_extension": ".py",
   "mimetype": "text/x-python",
   "name": "python",
   "nbconvert_exporter": "python",
   "pygments_lexer": "ipython3",
   "version": "3.7.6"
  }
 },
 "nbformat": 4,
 "nbformat_minor": 4
}
