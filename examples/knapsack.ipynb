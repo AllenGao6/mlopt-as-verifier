{
 "cells": [
  {
   "cell_type": "markdown",
   "metadata": {},
   "source": [
    "# MLOPT Knapsack Example"
   ]
  },
  {
   "cell_type": "code",
   "execution_count": 1,
   "metadata": {},
   "outputs": [],
   "source": [
    "import numpy as np\n",
    "import cvxpy as cp\n",
    "import pandas as pd\n",
    "import logging\n",
    "\n",
    "import mlopt\n",
    "from mlopt.sampling import uniform_sphere_sample\n",
    "from mlopt.learners import XGBoost\n",
    "from mlopt.utils import n_features, pandas2array"
   ]
  },
  {
   "cell_type": "markdown",
   "metadata": {},
   "source": [
    "## Generate problem data"
   ]
  },
  {
   "cell_type": "code",
   "execution_count": 2,
   "metadata": {},
   "outputs": [],
   "source": [
    "np.random.seed(1)  # Reset random seed for reproducibility\n",
    "\n",
    "# Variable\n",
    "n = 10\n",
    "x = cp.Variable(n, integer=True)\n",
    "\n",
    "# Cost\n",
    "c = np.random.rand(n)\n",
    "\n",
    "# Weights\n",
    "a = cp.Parameter(n, nonneg=True, name='a')\n",
    "x_u = cp.Parameter(n, nonneg=True, name='x_u')\n",
    "b = 0.5 * n"
   ]
  },
  {
   "cell_type": "markdown",
   "metadata": {},
   "source": [
    "## Create optimizer object"
   ]
  },
  {
   "cell_type": "code",
   "execution_count": 3,
   "metadata": {},
   "outputs": [],
   "source": [
    "# Problem\n",
    "cost = - c @ x\n",
    "constraints = [a @ x <= b,\n",
    "               0 <= x, x <= x_u]\n",
    "\n",
    "\n",
    "# Define optimizer\n",
    "# If you just want to remove too many messages\n",
    "# change INFO to WARNING\n",
    "problem = cp.Problem(cp.Minimize(cost), constraints)\n",
    "m = mlopt.Optimizer(problem,\n",
    "                    log_level=logging.INFO)"
   ]
  },
  {
   "cell_type": "markdown",
   "metadata": {},
   "source": [
    "## Define training and testing parameters"
   ]
  },
  {
   "cell_type": "code",
   "execution_count": 4,
   "metadata": {},
   "outputs": [],
   "source": [
    "# Average request\n",
    "theta_bar = 2 * np.ones(2 * n)\n",
    "radius = 1.0\n",
    "\n",
    "\n",
    "def sample(theta_bar, radius, n=100):\n",
    "\n",
    "    # Sample points from multivariate ball\n",
    "    ndim = int(len(theta_bar)/2)\n",
    "    X_a = uniform_sphere_sample(theta_bar[:ndim], radius, n=n)\n",
    "    X_u = uniform_sphere_sample(theta_bar[ndim:], radius, n=n)\n",
    "\n",
    "    df = pd.DataFrame({\n",
    "        'a': list(X_a),\n",
    "        'x_u': list(X_u)\n",
    "        })\n",
    "\n",
    "    return df\n",
    "\n",
    "\n",
    "# Training and testing data\n",
    "n_train = 1000\n",
    "n_test = 100\n",
    "theta_train = sample(theta_bar, radius, n=n_train)\n",
    "theta_test = sample(theta_bar, radius, n=n_test)"
   ]
  },
  {
   "cell_type": "markdown",
   "metadata": {},
   "source": [
    "## Train predictor"
   ]
  },
  {
   "cell_type": "code",
   "execution_count": 5,
   "metadata": {},
   "outputs": [
    {
     "name": "stdout",
     "output_type": "stream",
     "text": [
      "Use new data\n",
      "Compute tight constraints for training set (n_jobs = 4)\n"
     ]
    },
    {
     "data": {
      "application/vnd.jupyter.widget-view+json": {
       "model_id": "3a2f682090e14ec0966b46e7f543f8fb",
       "version_major": 2,
       "version_minor": 0
      },
      "text/plain": [
       "HBox(children=(FloatProgress(value=0.0, max=1000.0), HTML(value='')))"
      ]
     },
     "metadata": {},
     "output_type": "display_data"
    },
    {
     "name": "stdout",
     "output_type": "stream",
     "text": [
      "\n",
      "Encoding strategies\n",
      "Getting unique set of strategies\n",
      "Found 45 unique strategies\n",
      "Selecting most frequent strategies\n",
      "Selected 35 strategies\n",
      "Discarded strategies for 18 samples (1.80 %)\n",
      "Assign samples to selected strategies (n_jobs = 4)\n"
     ]
    },
    {
     "data": {
      "application/vnd.jupyter.widget-view+json": {
       "model_id": "67ae99f9d7274d3a94474f661e172461",
       "version_major": 2,
       "version_minor": 0
      },
      "text/plain": [
       "HBox(children=(FloatProgress(value=0.0, max=18.0), HTML(value='')))"
      ]
     },
     "metadata": {},
     "output_type": "display_data"
    },
    {
     "name": "stdout",
     "output_type": "stream",
     "text": [
      "\n",
      "Average cost degradation = 0.00e+00 %\n",
      "Max cost degradation = 0.00e+00 %\n",
      "Train XGBoost\n"
     ]
    },
    {
     "name": "stderr",
     "output_type": "stream",
     "text": [
      "\u001b[32m[I 2020-06-08 17:04:32,725]\u001b[0m Finished trial#0 with value: 1.0858136666666667 with parameters: {'lambda': 0.00035951528395198907, 'alpha': 0.004487430642551526, 'max_depth': 4, 'eta': 0.09545043768053617, 'gamma': 0.10791010062803776, 'n_boost_round': 261}. Best is trial#0 with value: 1.0858136666666667.\u001b[0m\n",
      "\u001b[32m[I 2020-06-08 17:04:52,736]\u001b[0m Finished trial#1 with value: 3.5553376666666665 with parameters: {'lambda': 0.0022992511193686686, 'alpha': 1.1749294175298198e-05, 'max_depth': 7, 'eta': 3.3689076275259848e-09, 'gamma': 1.8336991337206195e-06, 'n_boost_round': 243}. Best is trial#0 with value: 1.0858136666666667.\u001b[0m\n",
      "\u001b[32m[I 2020-06-08 17:05:04,495]\u001b[0m Finished trial#2 with value: 3.5494373333333336 with parameters: {'lambda': 0.037336472968807724, 'alpha': 8.303620896919176e-05, 'max_depth': 9, 'eta': 4.500939448451852e-06, 'gamma': 0.08715953304554301, 'n_boost_round': 122}. Best is trial#0 with value: 1.0858136666666667.\u001b[0m\n",
      "\u001b[32m[I 2020-06-08 17:05:13,968]\u001b[0m Finished trial#3 with value: 13.870097333333334 with parameters: {'lambda': 5.2876527967137755e-08, 'alpha': 1.5418847783441853e-09, 'max_depth': 4, 'eta': 0.7989670037749638, 'gamma': 1.4623658550645364e-07, 'n_boost_round': 388}. Best is trial#0 with value: 1.0858136666666667.\u001b[0m\n",
      "\u001b[32m[I 2020-06-08 17:05:33,594]\u001b[0m Finished trial#4 with value: 1.0583983333333336 with parameters: {'lambda': 8.539542219111328e-05, 'alpha': 0.028138110319138505, 'max_depth': 14, 'eta': 0.018185501461226373, 'gamma': 9.589579344201455e-08, 'n_boost_round': 338}. Best is trial#4 with value: 1.0583983333333336.\u001b[0m\n",
      "\u001b[32m[I 2020-06-08 17:05:37,377]\u001b[0m Setting status of trial#5 as TrialState.PRUNED. Trial was pruned at iteration 122.\u001b[0m\n",
      "\u001b[32m[I 2020-06-08 17:05:44,658]\u001b[0m Finished trial#6 with value: 3.365695333333333 with parameters: {'lambda': 3.521683893733264e-07, 'alpha': 0.007146576876531505, 'max_depth': 13, 'eta': 0.00019365165323586946, 'gamma': 1.4321044592425395e-08, 'n_boost_round': 103}. Best is trial#4 with value: 1.0583983333333336.\u001b[0m\n",
      "\u001b[32m[I 2020-06-08 17:05:47,107]\u001b[0m Finished trial#7 with value: 2.060234 with parameters: {'lambda': 1.7476544296468125e-07, 'alpha': 1.1690091240143993e-07, 'max_depth': 2, 'eta': 0.5995552174012236, 'gamma': 0.004568890550697229, 'n_boost_round': 81}. Best is trial#4 with value: 1.0583983333333336.\u001b[0m\n",
      "\u001b[32m[I 2020-06-08 17:05:50,018]\u001b[0m Setting status of trial#8 as TrialState.PRUNED. Trial was pruned at iteration 122.\u001b[0m\n",
      "\u001b[32m[I 2020-06-08 17:06:01,331]\u001b[0m Setting status of trial#9 as TrialState.PRUNED. Trial was pruned at iteration 122.\u001b[0m\n",
      "\u001b[32m[I 2020-06-08 17:06:22,261]\u001b[0m Setting status of trial#10 as TrialState.PRUNED. Trial was pruned at iteration 243.\u001b[0m\n",
      "\u001b[32m[I 2020-06-08 17:06:40,015]\u001b[0m Setting status of trial#11 as TrialState.PRUNED. Trial was pruned at iteration 243.\u001b[0m\n",
      "\u001b[32m[I 2020-06-08 17:07:02,935]\u001b[0m Finished trial#12 with value: 1.082469 with parameters: {'lambda': 1.712230868952277e-05, 'alpha': 0.05872616979275944, 'max_depth': 11, 'eta': 0.016162754977831026, 'gamma': 1.9395762104100587, 'n_boost_round': 320}. Best is trial#4 with value: 1.0583983333333336.\u001b[0m\n",
      "\u001b[32m[I 2020-06-08 17:07:03,503]\u001b[0m Setting status of trial#13 as TrialState.PRUNED. Trial was pruned at iteration 6.\u001b[0m\n",
      "\u001b[32m[I 2020-06-08 17:07:04,216]\u001b[0m Setting status of trial#14 as TrialState.PRUNED. Trial was pruned at iteration 6.\u001b[0m\n",
      "\u001b[32m[I 2020-06-08 17:07:18,309]\u001b[0m Finished trial#15 with value: 1.0746916666666666 with parameters: {'lambda': 7.750917548413664e-06, 'alpha': 0.039015470926452606, 'max_depth': 13, 'eta': 0.05619764088807331, 'gamma': 1.609615196994262, 'n_boost_round': 194}. Best is trial#4 with value: 1.0583983333333336.\u001b[0m\n",
      "\u001b[32m[I 2020-06-08 17:07:26,101]\u001b[0m Finished trial#16 with value: 1.1140836666666667 with parameters: {'lambda': 1.4219952212610836e-08, 'alpha': 0.0005392253883974665, 'max_depth': 14, 'eta': 0.0933401522300197, 'gamma': 6.995166033167811e-05, 'n_boost_round': 189}. Best is trial#4 with value: 1.0583983333333336.\u001b[0m\n",
      "\u001b[32m[I 2020-06-08 17:07:26,579]\u001b[0m Setting status of trial#17 as TrialState.PRUNED. Trial was pruned at iteration 6.\u001b[0m\n",
      "\u001b[32m[I 2020-06-08 17:07:27,137]\u001b[0m Setting status of trial#18 as TrialState.PRUNED. Trial was pruned at iteration 6.\u001b[0m\n",
      "\u001b[32m[I 2020-06-08 17:07:27,734]\u001b[0m Setting status of trial#19 as TrialState.PRUNED. Trial was pruned at iteration 6.\u001b[0m\n",
      "\u001b[32m[I 2020-06-08 17:07:33,311]\u001b[0m Finished trial#20 with value: 1.133004 with parameters: {'lambda': 0.036529199627813196, 'alpha': 0.0007198812017009252, 'max_depth': 13, 'eta': 0.18516005898399623, 'gamma': 0.001162305428904039, 'n_boost_round': 158}. Best is trial#4 with value: 1.0583983333333336.\u001b[0m\n",
      "\u001b[32m[I 2020-06-08 17:07:33,983]\u001b[0m Setting status of trial#21 as TrialState.PRUNED. Trial was pruned at iteration 6.\u001b[0m\n",
      "\u001b[32m[I 2020-06-08 17:07:34,608]\u001b[0m Setting status of trial#22 as TrialState.PRUNED. Trial was pruned at iteration 6.\u001b[0m\n",
      "\u001b[32m[I 2020-06-08 17:07:45,090]\u001b[0m Finished trial#23 with value: 1.089605 with parameters: {'lambda': 0.00028195347092355795, 'alpha': 0.03775515867943109, 'max_depth': 12, 'eta': 0.04761236710513436, 'gamma': 0.017054718329737407, 'n_boost_round': 209}. Best is trial#4 with value: 1.0583983333333336.\u001b[0m\n",
      "\u001b[32m[I 2020-06-08 17:07:45,609]\u001b[0m Setting status of trial#24 as TrialState.PRUNED. Trial was pruned at iteration 6.\u001b[0m\n",
      "\u001b[32m[I 2020-06-08 17:07:46,036]\u001b[0m Setting status of trial#25 as TrialState.PRUNED. Trial was pruned at iteration 6.\u001b[0m\n",
      "\u001b[32m[I 2020-06-08 17:07:54,315]\u001b[0m Finished trial#26 with value: 1.124534 with parameters: {'lambda': 0.0017190777613891191, 'alpha': 0.015362072490848531, 'max_depth': 14, 'eta': 0.1335368987055293, 'gamma': 2.7374312919503544e-05, 'n_boost_round': 230}. Best is trial#4 with value: 1.0583983333333336.\u001b[0m\n",
      "\u001b[32m[I 2020-06-08 17:07:54,844]\u001b[0m Setting status of trial#27 as TrialState.PRUNED. Trial was pruned at iteration 6.\u001b[0m\n",
      "\u001b[32m[I 2020-06-08 17:07:55,442]\u001b[0m Setting status of trial#28 as TrialState.PRUNED. Trial was pruned at iteration 6.\u001b[0m\n",
      "\u001b[32m[I 2020-06-08 17:08:20,085]\u001b[0m Finished trial#29 with value: 1.0509016666666666 with parameters: {'lambda': 0.00023708367466154925, 'alpha': 0.006083598789946084, 'max_depth': 7, 'eta': 0.16552120185178879, 'gamma': 0.3364718090504188, 'n_boost_round': 373}. Best is trial#29 with value: 1.0509016666666666.\u001b[0m\n",
      "\u001b[32m[I 2020-06-08 17:08:36,236]\u001b[0m Setting status of trial#30 as TrialState.PRUNED. Trial was pruned at iteration 320.\u001b[0m\n",
      "\u001b[32m[I 2020-06-08 17:08:36,957]\u001b[0m Setting status of trial#31 as TrialState.PRUNED. Trial was pruned at iteration 6.\u001b[0m\n",
      "\u001b[32m[I 2020-06-08 17:08:37,313]\u001b[0m Setting status of trial#32 as TrialState.PRUNED. Trial was pruned at iteration 6.\u001b[0m\n",
      "\u001b[32m[I 2020-06-08 17:08:52,120]\u001b[0m Finished trial#33 with value: 1.0526533333333334 with parameters: {'lambda': 0.007685673572057507, 'alpha': 0.002334098261297412, 'max_depth': 6, 'eta': 0.22862312742495333, 'gamma': 0.5755569818357507, 'n_boost_round': 240}. Best is trial#29 with value: 1.0509016666666666.\u001b[0m\n",
      "\u001b[32m[I 2020-06-08 17:08:59,695]\u001b[0m Finished trial#34 with value: 1.1333196666666667 with parameters: {'lambda': 0.009680899485331, 'alpha': 6.859482232742085e-06, 'max_depth': 6, 'eta': 0.3097257040452312, 'gamma': 0.04494549677867739, 'n_boost_round': 234}. Best is trial#29 with value: 1.0509016666666666.\u001b[0m\n",
      "\u001b[32m[I 2020-06-08 17:09:11,667]\u001b[0m Finished trial#35 with value: 1.0227766666666667 with parameters: {'lambda': 0.21052733649756555, 'alpha': 0.0023188508978487627, 'max_depth': 3, 'eta': 0.0904054894722318, 'gamma': 0.6490671826072305, 'n_boost_round': 181}. Best is trial#35 with value: 1.0227766666666667.\u001b[0m\n",
      "\u001b[32m[I 2020-06-08 17:09:24,801]\u001b[0m Finished trial#36 with value: 1.062681 with parameters: {'lambda': 1.1891805237493571, 'alpha': 0.0022345393836007968, 'max_depth': 3, 'eta': 0.3931530183574749, 'gamma': 0.4013178796042071, 'n_boost_round': 250}. Best is trial#35 with value: 1.0227766666666667.\u001b[0m\n",
      "\u001b[32m[I 2020-06-08 17:09:25,083]\u001b[0m Setting status of trial#37 as TrialState.PRUNED. Trial was pruned at iteration 6.\u001b[0m\n",
      "\u001b[32m[I 2020-06-08 17:09:25,447]\u001b[0m Setting status of trial#38 as TrialState.PRUNED. Trial was pruned at iteration 6.\u001b[0m\n",
      "\u001b[32m[I 2020-06-08 17:09:30,406]\u001b[0m Finished trial#39 with value: 1.0438363333333334 with parameters: {'lambda': 0.004145141888174933, 'alpha': 1.8641535611402785e-06, 'max_depth': 3, 'eta': 0.07820281503516996, 'gamma': 6.365491148573084e-06, 'n_boost_round': 96}. Best is trial#35 with value: 1.0227766666666667.\u001b[0m\n",
      "\u001b[32m[I 2020-06-08 17:09:30,922]\u001b[0m Setting status of trial#40 as TrialState.PRUNED. Trial was pruned at iteration 6.\u001b[0m\n",
      "\u001b[32m[I 2020-06-08 17:09:35,402]\u001b[0m Finished trial#41 with value: 1.0564363333333333 with parameters: {'lambda': 0.019880352015840614, 'alpha': 5.131950268178066e-07, 'max_depth': 2, 'eta': 0.1279944569113254, 'gamma': 5.080206408045934e-07, 'n_boost_round': 81}. Best is trial#35 with value: 1.0227766666666667.\u001b[0m\n",
      "\u001b[32m[I 2020-06-08 17:09:36,394]\u001b[0m Setting status of trial#42 as TrialState.PRUNED. Trial was pruned at iteration 11.\u001b[0m\n",
      "\u001b[32m[I 2020-06-08 17:09:40,404]\u001b[0m Finished trial#43 with value: 1.050386 with parameters: {'lambda': 0.07329277937766238, 'alpha': 3.2385164857022e-05, 'max_depth': 4, 'eta': 0.10555104063938334, 'gamma': 4.899509280211571e-07, 'n_boost_round': 70}. Best is trial#35 with value: 1.0227766666666667.\u001b[0m\n",
      "\u001b[32m[I 2020-06-08 17:09:40,633]\u001b[0m Setting status of trial#44 as TrialState.PRUNED. Trial was pruned at iteration 6.\u001b[0m\n",
      "\u001b[32m[I 2020-06-08 17:09:41,213]\u001b[0m Setting status of trial#45 as TrialState.PRUNED. Trial was pruned at iteration 6.\u001b[0m\n",
      "\u001b[32m[I 2020-06-08 17:09:41,983]\u001b[0m Setting status of trial#46 as TrialState.PRUNED. Trial was pruned at iteration 6.\u001b[0m\n",
      "\u001b[32m[I 2020-06-08 17:09:42,530]\u001b[0m Setting status of trial#47 as TrialState.PRUNED. Trial was pruned at iteration 6.\u001b[0m\n",
      "\u001b[32m[I 2020-06-08 17:09:43,444]\u001b[0m Setting status of trial#48 as TrialState.PRUNED. Trial was pruned at iteration 16.\u001b[0m\n",
      "\u001b[32m[I 2020-06-08 17:09:49,972]\u001b[0m Finished trial#49 with value: 1.1324623333333335 with parameters: {'lambda': 0.013296804741063876, 'alpha': 0.00689370309031136, 'max_depth': 7, 'eta': 0.18235514172495434, 'gamma': 2.3118656735136126e-06, 'n_boost_round': 152}. Best is trial#35 with value: 1.0227766666666667.\u001b[0m\n",
      "\u001b[32m[I 2020-06-08 17:09:50,448]\u001b[0m Setting status of trial#50 as TrialState.PRUNED. Trial was pruned at iteration 6.\u001b[0m\n",
      "\u001b[32m[I 2020-06-08 17:09:55,922]\u001b[0m Finished trial#51 with value: 1.0452233333333334 with parameters: {'lambda': 0.02076550298899927, 'alpha': 5.643719190010923e-07, 'max_depth': 2, 'eta': 0.11842566201728838, 'gamma': 5.922878759510147e-07, 'n_boost_round': 71}. Best is trial#35 with value: 1.0227766666666667.\u001b[0m\n",
      "\u001b[32m[I 2020-06-08 17:09:56,358]\u001b[0m Setting status of trial#52 as TrialState.PRUNED. Trial was pruned at iteration 6.\u001b[0m\n",
      "\u001b[32m[I 2020-06-08 17:10:05,532]\u001b[0m Finished trial#53 with value: 1.0781556666666667 with parameters: {'lambda': 0.0005787173749619964, 'alpha': 2.2227203552062383e-06, 'max_depth': 3, 'eta': 0.11195331430878984, 'gamma': 9.434943152238627e-08, 'n_boost_round': 135}. Best is trial#35 with value: 1.0227766666666667.\u001b[0m\n",
      "\u001b[32m[I 2020-06-08 17:10:07,252]\u001b[0m Setting status of trial#54 as TrialState.PRUNED. Trial was pruned at iteration 6.\u001b[0m\n",
      "\u001b[32m[I 2020-06-08 17:10:08,783]\u001b[0m Setting status of trial#55 as TrialState.PRUNED. Trial was pruned at iteration 6.\u001b[0m\n",
      "\u001b[32m[I 2020-06-08 17:10:10,055]\u001b[0m Setting status of trial#56 as TrialState.PRUNED. Trial was pruned at iteration 6.\u001b[0m\n",
      "\u001b[32m[I 2020-06-08 17:10:10,857]\u001b[0m Setting status of trial#57 as TrialState.PRUNED. Trial was pruned at iteration 6.\u001b[0m\n",
      "\u001b[32m[I 2020-06-08 17:10:24,414]\u001b[0m Finished trial#58 with value: 1.0637233333333331 with parameters: {'lambda': 0.04341291876356877, 'alpha': 0.0003364601166311598, 'max_depth': 7, 'eta': 0.2520632236001097, 'gamma': 0.5727573949517493, 'n_boost_round': 146}. Best is trial#35 with value: 1.0227766666666667.\u001b[0m\n",
      "\u001b[32m[I 2020-06-08 17:10:24,877]\u001b[0m Setting status of trial#59 as TrialState.PRUNED. Trial was pruned at iteration 6.\u001b[0m\n",
      "\u001b[32m[I 2020-06-08 17:10:25,537]\u001b[0m Setting status of trial#60 as TrialState.PRUNED. Trial was pruned at iteration 6.\u001b[0m\n",
      "\u001b[32m[I 2020-06-08 17:10:30,226]\u001b[0m Finished trial#61 with value: 1.0507826666666666 with parameters: {'lambda': 0.02376551423638505, 'alpha': 3.8535174840906237e-07, 'max_depth': 2, 'eta': 0.11532266841362854, 'gamma': 5.891992135304219e-07, 'n_boost_round': 79}. Best is trial#35 with value: 1.0227766666666667.\u001b[0m\n",
      "\u001b[32m[I 2020-06-08 17:10:30,742]\u001b[0m Setting status of trial#62 as TrialState.PRUNED. Trial was pruned at iteration 6.\u001b[0m\n",
      "\u001b[32m[I 2020-06-08 17:10:31,199]\u001b[0m Setting status of trial#63 as TrialState.PRUNED. Trial was pruned at iteration 6.\u001b[0m\n",
      "\u001b[32m[I 2020-06-08 17:10:31,825]\u001b[0m Setting status of trial#64 as TrialState.PRUNED. Trial was pruned at iteration 6.\u001b[0m\n",
      "\u001b[32m[I 2020-06-08 17:10:33,161]\u001b[0m Setting status of trial#65 as TrialState.PRUNED. Trial was pruned at iteration 22.\u001b[0m\n",
      "\u001b[32m[I 2020-06-08 17:10:37,010]\u001b[0m Finished trial#66 with value: 1.0577093333333334 with parameters: {'lambda': 0.15322830719897215, 'alpha': 0.00020539623609552263, 'max_depth': 3, 'eta': 0.12883048452229454, 'gamma': 6.543465114981865e-06, 'n_boost_round': 73}. Best is trial#35 with value: 1.0227766666666667.\u001b[0m\n",
      "\u001b[32m[I 2020-06-08 17:10:37,442]\u001b[0m Setting status of trial#67 as TrialState.PRUNED. Trial was pruned at iteration 6.\u001b[0m\n",
      "\u001b[32m[I 2020-06-08 17:10:37,742]\u001b[0m Setting status of trial#68 as TrialState.PRUNED. Trial was pruned at iteration 6.\u001b[0m\n",
      "\u001b[32m[I 2020-06-08 17:10:38,382]\u001b[0m Setting status of trial#69 as TrialState.PRUNED. Trial was pruned at iteration 6.\u001b[0m\n",
      "\u001b[32m[I 2020-06-08 17:10:39,015]\u001b[0m Setting status of trial#70 as TrialState.PRUNED. Trial was pruned at iteration 6.\u001b[0m\n",
      "\u001b[32m[I 2020-06-08 17:10:39,500]\u001b[0m Setting status of trial#71 as TrialState.PRUNED. Trial was pruned at iteration 6.\u001b[0m\n",
      "\u001b[32m[I 2020-06-08 17:10:43,262]\u001b[0m Finished trial#72 with value: 1.0662383333333334 with parameters: {'lambda': 0.01575331841443007, 'alpha': 1.2251074707511378e-07, 'max_depth': 3, 'eta': 0.16618785740822883, 'gamma': 5.070316611967172e-07, 'n_boost_round': 59}. Best is trial#35 with value: 1.0227766666666667.\u001b[0m\n",
      "\u001b[32m[I 2020-06-08 17:10:46,192]\u001b[0m Finished trial#73 with value: 1.113071 with parameters: {'lambda': 0.005475997360859997, 'alpha': 8.454743394826204e-07, 'max_depth': 9, 'eta': 0.2631039650820453, 'gamma': 1.0414162860795418e-06, 'n_boost_round': 50}. Best is trial#35 with value: 1.0227766666666667.\u001b[0m\n",
      "\u001b[32m[I 2020-06-08 17:10:46,902]\u001b[0m Setting status of trial#74 as TrialState.PRUNED. Trial was pruned at iteration 6.\u001b[0m\n",
      "\u001b[32m[I 2020-06-08 17:10:48,222]\u001b[0m Setting status of trial#75 as TrialState.PRUNED. Trial was pruned at iteration 6.\u001b[0m\n",
      "\u001b[32m[I 2020-06-08 17:10:49,490]\u001b[0m Setting status of trial#76 as TrialState.PRUNED. Trial was pruned at iteration 21.\u001b[0m\n",
      "\u001b[32m[I 2020-06-08 17:11:04,157]\u001b[0m Finished trial#77 with value: 1.1603143333333332 with parameters: {'lambda': 0.08331827855093792, 'alpha': 7.662454039393091e-08, 'max_depth': 4, 'eta': 0.21453973729830322, 'gamma': 3.3079845577828127e-06, 'n_boost_round': 387}. Best is trial#35 with value: 1.0227766666666667.\u001b[0m\n",
      "\u001b[32m[I 2020-06-08 17:11:04,782]\u001b[0m Setting status of trial#78 as TrialState.PRUNED. Trial was pruned at iteration 6.\u001b[0m\n",
      "\u001b[32m[I 2020-06-08 17:11:05,316]\u001b[0m Setting status of trial#79 as TrialState.PRUNED. Trial was pruned at iteration 6.\u001b[0m\n",
      "\u001b[32m[I 2020-06-08 17:11:05,930]\u001b[0m Setting status of trial#80 as TrialState.PRUNED. Trial was pruned at iteration 6.\u001b[0m\n",
      "\u001b[32m[I 2020-06-08 17:11:09,371]\u001b[0m Finished trial#81 with value: 1.0648693333333332 with parameters: {'lambda': 0.03022911965114971, 'alpha': 0.00022902249291702355, 'max_depth': 3, 'eta': 0.14532293729519466, 'gamma': 8.820318408484956e-06, 'n_boost_round': 74}. Best is trial#35 with value: 1.0227766666666667.\u001b[0m\n",
      "\u001b[32m[I 2020-06-08 17:11:09,925]\u001b[0m Setting status of trial#82 as TrialState.PRUNED. Trial was pruned at iteration 6.\u001b[0m\n",
      "\u001b[32m[I 2020-06-08 17:11:10,366]\u001b[0m Setting status of trial#83 as TrialState.PRUNED. Trial was pruned at iteration 6.\u001b[0m\n",
      "\u001b[32m[I 2020-06-08 17:11:10,719]\u001b[0m Setting status of trial#84 as TrialState.PRUNED. Trial was pruned at iteration 6.\u001b[0m\n",
      "\u001b[32m[I 2020-06-08 17:11:11,576]\u001b[0m Setting status of trial#85 as TrialState.PRUNED. Trial was pruned at iteration 25.\u001b[0m\n",
      "\u001b[32m[I 2020-06-08 17:11:20,126]\u001b[0m Finished trial#86 with value: 1.0715336666666666 with parameters: {'lambda': 0.08343785730833651, 'alpha': 6.061446007716876e-05, 'max_depth': 4, 'eta': 0.16158132205708636, 'gamma': 0.1436230702761522, 'n_boost_round': 114}. Best is trial#35 with value: 1.0227766666666667.\u001b[0m\n",
      "\u001b[32m[I 2020-06-08 17:11:20,630]\u001b[0m Setting status of trial#87 as TrialState.PRUNED. Trial was pruned at iteration 6.\u001b[0m\n",
      "\u001b[32m[I 2020-06-08 17:11:21,188]\u001b[0m Setting status of trial#88 as TrialState.PRUNED. Trial was pruned at iteration 6.\u001b[0m\n",
      "\u001b[32m[I 2020-06-08 17:11:21,997]\u001b[0m Setting status of trial#89 as TrialState.PRUNED. Trial was pruned at iteration 13.\u001b[0m\n",
      "\u001b[32m[I 2020-06-08 17:11:22,900]\u001b[0m Setting status of trial#90 as TrialState.PRUNED. Trial was pruned at iteration 6.\u001b[0m\n",
      "\u001b[32m[I 2020-06-08 17:11:23,682]\u001b[0m Setting status of trial#91 as TrialState.PRUNED. Trial was pruned at iteration 6.\u001b[0m\n",
      "\u001b[32m[I 2020-06-08 17:11:39,458]\u001b[0m Finished trial#92 with value: 1.1557936666666666 with parameters: {'lambda': 9.375380493378475e-05, 'alpha': 0.023251616254923394, 'max_depth': 9, 'eta': 0.2087841117408918, 'gamma': 6.487116379342465e-08, 'n_boost_round': 368}. Best is trial#35 with value: 1.0227766666666667.\u001b[0m\n",
      "\u001b[32m[I 2020-06-08 17:11:40,965]\u001b[0m Setting status of trial#93 as TrialState.PRUNED. Trial was pruned at iteration 22.\u001b[0m\n",
      "\u001b[32m[I 2020-06-08 17:11:41,539]\u001b[0m Setting status of trial#94 as TrialState.PRUNED. Trial was pruned at iteration 6.\u001b[0m\n",
      "\u001b[32m[I 2020-06-08 17:11:41,857]\u001b[0m Setting status of trial#95 as TrialState.PRUNED. Trial was pruned at iteration 6.\u001b[0m\n",
      "\u001b[32m[I 2020-06-08 17:11:42,397]\u001b[0m Setting status of trial#96 as TrialState.PRUNED. Trial was pruned at iteration 6.\u001b[0m\n",
      "\u001b[32m[I 2020-06-08 17:11:42,830]\u001b[0m Setting status of trial#97 as TrialState.PRUNED. Trial was pruned at iteration 6.\u001b[0m\n",
      "\u001b[32m[I 2020-06-08 17:11:43,482]\u001b[0m Setting status of trial#98 as TrialState.PRUNED. Trial was pruned at iteration 6.\u001b[0m\n",
      "\u001b[32m[I 2020-06-08 17:11:43,859]\u001b[0m Setting status of trial#99 as TrialState.PRUNED. Trial was pruned at iteration 6.\u001b[0m\n"
     ]
    },
    {
     "name": "stdout",
     "output_type": "stream",
     "text": [
      "Study statistics: \n",
      "  Number of finished trials: 100\n",
      "  Number of pruned trials: 67\n",
      "  Number of complete trials: 33\n",
      "Best loss value: 1.0228\n",
      "Best parameters\n",
      "    lambda: 0.21052733649756555\n",
      "    alpha: 0.0023188508978487627\n",
      "    max_depth: 3\n",
      "    eta: 0.0904054894722318\n",
      "    gamma: 0.6490671826072305\n",
      "    n_boost_round: 181\n",
      "Train with best parameters\n",
      "Training time 448.23\n"
     ]
    }
   ],
   "source": [
    "m.train(theta_train, learner=mlopt.XGBOOST)"
   ]
  },
  {
   "cell_type": "markdown",
   "metadata": {},
   "source": [
    "## Benchmark on testing dataset"
   ]
  },
  {
   "cell_type": "code",
   "execution_count": 8,
   "metadata": {},
   "outputs": [
    {
     "name": "stdout",
     "output_type": "stream",
     "text": [
      "Performance evaluation\n",
      "Compute tight constraints for test set (n_jobs = 1)\n"
     ]
    },
    {
     "data": {
      "application/vnd.jupyter.widget-view+json": {
       "model_id": "ed6d72b68e244c16b7e189e6f615abe8",
       "version_major": 2,
       "version_minor": 0
      },
      "text/plain": [
       "HBox(children=(FloatProgress(value=0.0), HTML(value='')))"
      ]
     },
     "metadata": {},
     "output_type": "display_data"
    },
    {
     "name": "stdout",
     "output_type": "stream",
     "text": [
      "\n",
      "Solver cache requested but the cache has not been computed for this problem. Possibly parameters in proble matrices.\n",
      "Predict tight constraints for test set\n"
     ]
    },
    {
     "data": {
      "application/vnd.jupyter.widget-view+json": {
       "model_id": "273913946f5f4349894c042197fde084",
       "version_major": 2,
       "version_minor": 0
      },
      "text/plain": [
       "HBox(children=(FloatProgress(value=0.0), HTML(value='')))"
      ]
     },
     "metadata": {},
     "output_type": "display_data"
    },
    {
     "name": "stdout",
     "output_type": "stream",
     "text": [
      "\n",
      "Accuracy: 92.00 \n"
     ]
    }
   ],
   "source": [
    "results = m.performance(theta_test)\n",
    "print(\"Accuracy: %.2f \" % results[0]['accuracy'])"
   ]
  },
  {
   "cell_type": "markdown",
   "metadata": {},
   "source": [
    "## Save training data"
   ]
  },
  {
   "cell_type": "code",
   "execution_count": 9,
   "metadata": {},
   "outputs": [],
   "source": [
    "m.save_training_data(\"knapsack_training_data.pkl\", delete_existing=True)"
   ]
  },
  {
   "cell_type": "markdown",
   "metadata": {},
   "source": [
    "## Create new solver and train passing loaded data"
   ]
  },
  {
   "cell_type": "code",
   "execution_count": 10,
   "metadata": {},
   "outputs": [
    {
     "name": "stdout",
     "output_type": "stream",
     "text": [
      "Loaded 1000 points with 35 strategies\n",
      "No labels appearing only once\n",
      "Selecting most frequent strategies\n",
      "Selected 30 strategies\n",
      "Discarded strategies for 16 samples (1.60 %)\n",
      "Assign samples to selected strategies (n_jobs = 4)\n"
     ]
    },
    {
     "data": {
      "application/vnd.jupyter.widget-view+json": {
       "model_id": "f7071963cfcf4fc1a44006da8f37fecc",
       "version_major": 2,
       "version_minor": 0
      },
      "text/plain": [
       "HBox(children=(FloatProgress(value=0.0, max=16.0), HTML(value='')))"
      ]
     },
     "metadata": {},
     "output_type": "display_data"
    },
    {
     "name": "stdout",
     "output_type": "stream",
     "text": [
      "\n",
      "Average cost degradation = 0.00e+00 %\n",
      "Max cost degradation = 0.00e+00 %\n",
      "Train XGBoost\n"
     ]
    },
    {
     "name": "stderr",
     "output_type": "stream",
     "text": [
      "\u001b[32m[I 2020-06-08 17:12:58,167]\u001b[0m Finished trial#0 with value: 1.041262 with parameters: {'lambda': 0.00035951528395198907, 'alpha': 0.004487430642551526, 'max_depth': 4, 'eta': 0.09545043768053617, 'gamma': 0.10791010062803776, 'n_boost_round': 261}. Best is trial#0 with value: 1.041262.\u001b[0m\n",
      "\u001b[32m[I 2020-06-08 17:13:15,368]\u001b[0m Finished trial#1 with value: 3.4011886666666666 with parameters: {'lambda': 0.0022992511193686686, 'alpha': 1.1749294175298198e-05, 'max_depth': 7, 'eta': 3.3689076275259848e-09, 'gamma': 1.8336991337206195e-06, 'n_boost_round': 243}. Best is trial#0 with value: 1.041262.\u001b[0m\n",
      "\u001b[32m[I 2020-06-08 17:13:23,140]\u001b[0m Finished trial#2 with value: 3.3960113333333335 with parameters: {'lambda': 0.037336472968807724, 'alpha': 8.303620896919176e-05, 'max_depth': 9, 'eta': 4.500939448451852e-06, 'gamma': 0.08715953304554301, 'n_boost_round': 122}. Best is trial#0 with value: 1.041262.\u001b[0m\n",
      "\u001b[32m[I 2020-06-08 17:13:32,162]\u001b[0m Finished trial#3 with value: 5.038075666666667 with parameters: {'lambda': 5.2876527967137755e-08, 'alpha': 1.5418847783441853e-09, 'max_depth': 4, 'eta': 0.7989670037749638, 'gamma': 1.4623658550645364e-07, 'n_boost_round': 388}. Best is trial#0 with value: 1.041262.\u001b[0m\n",
      "\u001b[32m[I 2020-06-08 17:13:49,979]\u001b[0m Finished trial#4 with value: 1.0111183333333333 with parameters: {'lambda': 8.539542219111328e-05, 'alpha': 0.028138110319138505, 'max_depth': 14, 'eta': 0.018185501461226373, 'gamma': 9.589579344201455e-08, 'n_boost_round': 338}. Best is trial#4 with value: 1.0111183333333333.\u001b[0m\n",
      "\u001b[32m[I 2020-06-08 17:13:53,493]\u001b[0m Setting status of trial#5 as TrialState.PRUNED. Trial was pruned at iteration 122.\u001b[0m\n",
      "\u001b[32m[I 2020-06-08 17:14:00,814]\u001b[0m Finished trial#6 with value: 3.2327193333333333 with parameters: {'lambda': 3.521683893733264e-07, 'alpha': 0.007146576876531505, 'max_depth': 13, 'eta': 0.00019365165323586946, 'gamma': 1.4321044592425395e-08, 'n_boost_round': 103}. Best is trial#4 with value: 1.0111183333333333.\u001b[0m\n",
      "\u001b[32m[I 2020-06-08 17:14:02,834]\u001b[0m Finished trial#7 with value: 1.2334873333333334 with parameters: {'lambda': 1.7476544296468125e-07, 'alpha': 1.1690091240143993e-07, 'max_depth': 2, 'eta': 0.5995552174012236, 'gamma': 0.004568890550697229, 'n_boost_round': 81}. Best is trial#4 with value: 1.0111183333333333.\u001b[0m\n",
      "\u001b[32m[I 2020-06-08 17:14:08,171]\u001b[0m Setting status of trial#8 as TrialState.PRUNED. Trial was pruned at iteration 243.\u001b[0m\n",
      "\u001b[32m[I 2020-06-08 17:14:16,727]\u001b[0m Setting status of trial#9 as TrialState.PRUNED. Trial was pruned at iteration 122.\u001b[0m\n",
      "\u001b[32m[I 2020-06-08 17:14:31,812]\u001b[0m Setting status of trial#10 as TrialState.PRUNED. Trial was pruned at iteration 243.\u001b[0m\n",
      "\u001b[32m[I 2020-06-08 17:14:45,907]\u001b[0m Setting status of trial#11 as TrialState.PRUNED. Trial was pruned at iteration 243.\u001b[0m\n",
      "\u001b[32m[I 2020-06-08 17:15:06,441]\u001b[0m Finished trial#12 with value: 1.0322986666666667 with parameters: {'lambda': 1.712230868952277e-05, 'alpha': 0.05872616979275944, 'max_depth': 11, 'eta': 0.016162754977831026, 'gamma': 1.9395762104100587, 'n_boost_round': 320}. Best is trial#4 with value: 1.0111183333333333.\u001b[0m\n",
      "\u001b[32m[I 2020-06-08 17:15:06,939]\u001b[0m Setting status of trial#13 as TrialState.PRUNED. Trial was pruned at iteration 6.\u001b[0m\n",
      "\u001b[32m[I 2020-06-08 17:15:07,512]\u001b[0m Setting status of trial#14 as TrialState.PRUNED. Trial was pruned at iteration 6.\u001b[0m\n",
      "\u001b[32m[I 2020-06-08 17:15:19,912]\u001b[0m Finished trial#15 with value: 1.0231296666666667 with parameters: {'lambda': 7.750917548413664e-06, 'alpha': 0.039015470926452606, 'max_depth': 13, 'eta': 0.05619764088807331, 'gamma': 1.609615196994262, 'n_boost_round': 194}. Best is trial#4 with value: 1.0111183333333333.\u001b[0m\n",
      "\u001b[32m[I 2020-06-08 17:15:26,441]\u001b[0m Finished trial#16 with value: 1.0727916666666666 with parameters: {'lambda': 1.4219952212610836e-08, 'alpha': 0.0005392253883974665, 'max_depth': 14, 'eta': 0.0933401522300197, 'gamma': 6.995166033167811e-05, 'n_boost_round': 189}. Best is trial#4 with value: 1.0111183333333333.\u001b[0m\n",
      "\u001b[32m[I 2020-06-08 17:15:26,905]\u001b[0m Setting status of trial#17 as TrialState.PRUNED. Trial was pruned at iteration 6.\u001b[0m\n",
      "\u001b[32m[I 2020-06-08 17:15:27,461]\u001b[0m Setting status of trial#18 as TrialState.PRUNED. Trial was pruned at iteration 6.\u001b[0m\n",
      "\u001b[32m[I 2020-06-08 17:15:28,010]\u001b[0m Setting status of trial#19 as TrialState.PRUNED. Trial was pruned at iteration 6.\u001b[0m\n",
      "\u001b[32m[I 2020-06-08 17:15:32,734]\u001b[0m Finished trial#20 with value: 1.077122 with parameters: {'lambda': 0.036529199627813196, 'alpha': 0.0007198812017009252, 'max_depth': 13, 'eta': 0.18516005898399623, 'gamma': 0.001162305428904039, 'n_boost_round': 158}. Best is trial#4 with value: 1.0111183333333333.\u001b[0m\n",
      "\u001b[32m[I 2020-06-08 17:15:33,270]\u001b[0m Setting status of trial#21 as TrialState.PRUNED. Trial was pruned at iteration 6.\u001b[0m\n",
      "\u001b[32m[I 2020-06-08 17:15:33,821]\u001b[0m Setting status of trial#22 as TrialState.PRUNED. Trial was pruned at iteration 6.\u001b[0m\n",
      "\u001b[32m[I 2020-06-08 17:15:42,645]\u001b[0m Finished trial#23 with value: 1.0336933333333334 with parameters: {'lambda': 0.00028195347092355795, 'alpha': 0.03775515867943109, 'max_depth': 12, 'eta': 0.04761236710513436, 'gamma': 0.017054718329737407, 'n_boost_round': 209}. Best is trial#4 with value: 1.0111183333333333.\u001b[0m\n",
      "\u001b[32m[I 2020-06-08 17:15:43,132]\u001b[0m Setting status of trial#24 as TrialState.PRUNED. Trial was pruned at iteration 6.\u001b[0m\n",
      "\u001b[32m[I 2020-06-08 17:15:43,609]\u001b[0m Setting status of trial#25 as TrialState.PRUNED. Trial was pruned at iteration 11.\u001b[0m\n",
      "\u001b[32m[I 2020-06-08 17:15:50,908]\u001b[0m Finished trial#26 with value: 1.0869593333333334 with parameters: {'lambda': 0.0017190777613891191, 'alpha': 0.015362072490848531, 'max_depth': 14, 'eta': 0.1335368987055293, 'gamma': 2.7374312919503544e-05, 'n_boost_round': 230}. Best is trial#4 with value: 1.0111183333333333.\u001b[0m\n",
      "\u001b[32m[I 2020-06-08 17:15:51,493]\u001b[0m Setting status of trial#27 as TrialState.PRUNED. Trial was pruned at iteration 6.\u001b[0m\n",
      "\u001b[32m[I 2020-06-08 17:15:52,006]\u001b[0m Setting status of trial#28 as TrialState.PRUNED. Trial was pruned at iteration 6.\u001b[0m\n",
      "\u001b[32m[I 2020-06-08 17:16:09,105]\u001b[0m Finished trial#29 with value: 1.008589 with parameters: {'lambda': 0.00023708367466154925, 'alpha': 0.006083598789946084, 'max_depth': 7, 'eta': 0.16552120185178879, 'gamma': 0.3364718090504188, 'n_boost_round': 373}. Best is trial#29 with value: 1.008589.\u001b[0m\n",
      "\u001b[32m[I 2020-06-08 17:16:23,104]\u001b[0m Finished trial#30 with value: 1.019766 with parameters: {'lambda': 0.0003626926871553914, 'alpha': 0.00016424004662885053, 'max_depth': 6, 'eta': 0.27766137107096156, 'gamma': 0.28813534098714344, 'n_boost_round': 375}. Best is trial#29 with value: 1.008589.\u001b[0m\n",
      "\u001b[32m[I 2020-06-08 17:16:35,574]\u001b[0m Finished trial#31 with value: 1.028551 with parameters: {'lambda': 0.00039881080898401507, 'alpha': 0.0002094427643560546, 'max_depth': 6, 'eta': 0.2783991856276463, 'gamma': 0.20918569123896447, 'n_boost_round': 375}. Best is trial#29 with value: 1.008589.\u001b[0m\n",
      "\u001b[32m[I 2020-06-08 17:16:35,820]\u001b[0m Setting status of trial#32 as TrialState.PRUNED. Trial was pruned at iteration 6.\u001b[0m\n",
      "\u001b[32m[I 2020-06-08 17:16:52,457]\u001b[0m Finished trial#33 with value: 0.998554 with parameters: {'lambda': 0.0011056063632836803, 'alpha': 2.3723228175753126e-05, 'max_depth': 7, 'eta': 0.07789596518739211, 'gamma': 0.45135784651134114, 'n_boost_round': 356}. Best is trial#33 with value: 0.998554.\u001b[0m\n",
      "\u001b[32m[I 2020-06-08 17:17:05,910]\u001b[0m Finished trial#34 with value: 1.0340613333333333 with parameters: {'lambda': 0.0011158514142036971, 'alpha': 3.700681059743462e-06, 'max_depth': 6, 'eta': 0.3097257040452312, 'gamma': 0.31858953433030424, 'n_boost_round': 350}. Best is trial#33 with value: 0.998554.\u001b[0m\n",
      "\u001b[32m[I 2020-06-08 17:17:06,110]\u001b[0m Setting status of trial#35 as TrialState.PRUNED. Trial was pruned at iteration 6.\u001b[0m\n",
      "\u001b[32m[I 2020-06-08 17:17:06,673]\u001b[0m Setting status of trial#36 as TrialState.PRUNED. Trial was pruned at iteration 6.\u001b[0m\n",
      "\u001b[32m[I 2020-06-08 17:17:07,238]\u001b[0m Setting status of trial#37 as TrialState.PRUNED. Trial was pruned at iteration 6.\u001b[0m\n",
      "\u001b[32m[I 2020-06-08 17:17:14,115]\u001b[0m Setting status of trial#38 as TrialState.PRUNED. Trial was pruned at iteration 261.\u001b[0m\n",
      "\u001b[32m[I 2020-06-08 17:17:14,698]\u001b[0m Setting status of trial#39 as TrialState.PRUNED. Trial was pruned at iteration 6.\u001b[0m\n",
      "\u001b[32m[I 2020-06-08 17:17:15,238]\u001b[0m Setting status of trial#40 as TrialState.PRUNED. Trial was pruned at iteration 6.\u001b[0m\n",
      "\u001b[32m[I 2020-06-08 17:17:16,515]\u001b[0m Setting status of trial#41 as TrialState.PRUNED. Trial was pruned at iteration 21.\u001b[0m\n",
      "\u001b[32m[I 2020-06-08 17:17:17,065]\u001b[0m Setting status of trial#42 as TrialState.PRUNED. Trial was pruned at iteration 6.\u001b[0m\n",
      "\u001b[32m[I 2020-06-08 17:17:28,901]\u001b[0m Finished trial#43 with value: 1.0380116666666666 with parameters: {'lambda': 0.0072412308460223195, 'alpha': 0.00034727112074321525, 'max_depth': 8, 'eta': 0.0873220947012619, 'gamma': 0.12240196346630665, 'n_boost_round': 351}. Best is trial#33 with value: 0.998554.\u001b[0m\n",
      "\u001b[32m[I 2020-06-08 17:17:29,132]\u001b[0m Setting status of trial#44 as TrialState.PRUNED. Trial was pruned at iteration 6.\u001b[0m\n",
      "\u001b[32m[I 2020-06-08 17:17:29,696]\u001b[0m Setting status of trial#45 as TrialState.PRUNED. Trial was pruned at iteration 6.\u001b[0m\n",
      "\u001b[32m[I 2020-06-08 17:17:30,234]\u001b[0m Setting status of trial#46 as TrialState.PRUNED. Trial was pruned at iteration 6.\u001b[0m\n",
      "\u001b[32m[I 2020-06-08 17:17:30,755]\u001b[0m Setting status of trial#47 as TrialState.PRUNED. Trial was pruned at iteration 6.\u001b[0m\n",
      "\u001b[32m[I 2020-06-08 17:17:31,787]\u001b[0m Setting status of trial#48 as TrialState.PRUNED. Trial was pruned at iteration 25.\u001b[0m\n",
      "\u001b[32m[I 2020-06-08 17:17:32,330]\u001b[0m Setting status of trial#49 as TrialState.PRUNED. Trial was pruned at iteration 6.\u001b[0m\n",
      "\u001b[32m[I 2020-06-08 17:17:35,372]\u001b[0m Setting status of trial#50 as TrialState.PRUNED. Trial was pruned at iteration 52.\u001b[0m\n",
      "\u001b[32m[I 2020-06-08 17:17:48,478]\u001b[0m Finished trial#51 with value: 1.0463346666666666 with parameters: {'lambda': 0.00032639691306882683, 'alpha': 0.00020480502471402294, 'max_depth': 6, 'eta': 0.31241125320953717, 'gamma': 0.22453466659295962, 'n_boost_round': 368}. Best is trial#33 with value: 0.998554.\u001b[0m\n",
      "\u001b[32m[I 2020-06-08 17:18:05,560]\u001b[0m Finished trial#52 with value: 1.0075016666666667 with parameters: {'lambda': 0.00037729896593133517, 'alpha': 0.00026469554296157654, 'max_depth': 7, 'eta': 0.1623749552014554, 'gamma': 0.44097679216443925, 'n_boost_round': 355}. Best is trial#33 with value: 0.998554.\u001b[0m\n",
      "\u001b[32m[I 2020-06-08 17:18:06,023]\u001b[0m Setting status of trial#53 as TrialState.PRUNED. Trial was pruned at iteration 6.\u001b[0m\n",
      "\u001b[32m[I 2020-06-08 17:18:17,111]\u001b[0m Finished trial#54 with value: 1.0544816666666665 with parameters: {'lambda': 0.012641682784483545, 'alpha': 0.007656354596296628, 'max_depth': 8, 'eta': 0.12748905361813728, 'gamma': 0.061639892807856075, 'n_boost_round': 387}. Best is trial#33 with value: 0.998554.\u001b[0m\n",
      "\u001b[32m[I 2020-06-08 17:18:17,588]\u001b[0m Setting status of trial#55 as TrialState.PRUNED. Trial was pruned at iteration 6.\u001b[0m\n",
      "\u001b[32m[I 2020-06-08 17:18:18,160]\u001b[0m Setting status of trial#56 as TrialState.PRUNED. Trial was pruned at iteration 6.\u001b[0m\n",
      "\u001b[32m[I 2020-06-08 17:18:18,843]\u001b[0m Setting status of trial#57 as TrialState.PRUNED. Trial was pruned at iteration 8.\u001b[0m\n",
      "\u001b[32m[I 2020-06-08 17:18:19,384]\u001b[0m Setting status of trial#58 as TrialState.PRUNED. Trial was pruned at iteration 6.\u001b[0m\n",
      "\u001b[32m[I 2020-06-08 17:18:19,905]\u001b[0m Setting status of trial#59 as TrialState.PRUNED. Trial was pruned at iteration 6.\u001b[0m\n",
      "\u001b[32m[I 2020-06-08 17:18:20,449]\u001b[0m Setting status of trial#60 as TrialState.PRUNED. Trial was pruned at iteration 6.\u001b[0m\n",
      "\u001b[32m[I 2020-06-08 17:18:33,382]\u001b[0m Finished trial#61 with value: 1.0312126666666668 with parameters: {'lambda': 0.0004682280272863942, 'alpha': 0.0003632479572715151, 'max_depth': 6, 'eta': 0.21169654903110577, 'gamma': 0.1851044989964004, 'n_boost_round': 377}. Best is trial#33 with value: 0.998554.\u001b[0m\n",
      "\u001b[32m[I 2020-06-08 17:18:34,639]\u001b[0m Setting status of trial#62 as TrialState.PRUNED. Trial was pruned at iteration 19.\u001b[0m\n",
      "\u001b[32m[I 2020-06-08 17:18:34,935]\u001b[0m Setting status of trial#63 as TrialState.PRUNED. Trial was pruned at iteration 6.\u001b[0m\n",
      "\u001b[32m[I 2020-06-08 17:18:46,195]\u001b[0m Finished trial#64 with value: 1.0477463333333334 with parameters: {'lambda': 2.3152260519320338e-05, 'alpha': 0.0002497642235800346, 'max_depth': 13, 'eta': 0.14967776898434737, 'gamma': 0.13109541308017378, 'n_boost_round': 340}. Best is trial#33 with value: 0.998554.\u001b[0m\n",
      "\u001b[32m[I 2020-06-08 17:18:46,638]\u001b[0m Setting status of trial#65 as TrialState.PRUNED. Trial was pruned at iteration 6.\u001b[0m\n",
      "\u001b[32m[I 2020-06-08 17:18:47,155]\u001b[0m Setting status of trial#66 as TrialState.PRUNED. Trial was pruned at iteration 6.\u001b[0m\n",
      "\u001b[32m[I 2020-06-08 17:18:47,625]\u001b[0m Setting status of trial#67 as TrialState.PRUNED. Trial was pruned at iteration 6.\u001b[0m\n",
      "\u001b[32m[I 2020-06-08 17:18:49,930]\u001b[0m Setting status of trial#68 as TrialState.PRUNED. Trial was pruned at iteration 30.\u001b[0m\n",
      "\u001b[32m[I 2020-06-08 17:18:50,463]\u001b[0m Setting status of trial#69 as TrialState.PRUNED. Trial was pruned at iteration 6.\u001b[0m\n",
      "\u001b[32m[I 2020-06-08 17:18:51,033]\u001b[0m Setting status of trial#70 as TrialState.PRUNED. Trial was pruned at iteration 6.\u001b[0m\n",
      "\u001b[32m[I 2020-06-08 17:18:51,560]\u001b[0m Setting status of trial#71 as TrialState.PRUNED. Trial was pruned at iteration 6.\u001b[0m\n",
      "\u001b[32m[I 2020-06-08 17:19:05,298]\u001b[0m Finished trial#72 with value: 1.0229476666666668 with parameters: {'lambda': 0.000934088285754074, 'alpha': 0.000131787123174555, 'max_depth': 8, 'eta': 0.21199383311947148, 'gamma': 0.24330425111666953, 'n_boost_round': 375}. Best is trial#33 with value: 0.998554.\u001b[0m\n",
      "\u001b[32m[I 2020-06-08 17:19:13,670]\u001b[0m Finished trial#73 with value: 0.9901896666666667 with parameters: {'lambda': 0.0010031975449322406, 'alpha': 5.1760109347002745e-05, 'max_depth': 1, 'eta': 0.3612632499913488, 'gamma': 0.6527394497972836, 'n_boost_round': 343}. Best is trial#73 with value: 0.9901896666666667.\u001b[0m\n",
      "\u001b[32m[I 2020-06-08 17:19:13,894]\u001b[0m Setting status of trial#74 as TrialState.PRUNED. Trial was pruned at iteration 6.\u001b[0m\n",
      "\u001b[32m[I 2020-06-08 17:19:14,201]\u001b[0m Setting status of trial#75 as TrialState.PRUNED. Trial was pruned at iteration 6.\u001b[0m\n",
      "\u001b[32m[I 2020-06-08 17:19:15,468]\u001b[0m Setting status of trial#76 as TrialState.PRUNED. Trial was pruned at iteration 18.\u001b[0m\n",
      "\u001b[32m[I 2020-06-08 17:19:15,969]\u001b[0m Setting status of trial#77 as TrialState.PRUNED. Trial was pruned at iteration 6.\u001b[0m\n",
      "\u001b[32m[I 2020-06-08 17:19:16,525]\u001b[0m Setting status of trial#78 as TrialState.PRUNED. Trial was pruned at iteration 6.\u001b[0m\n",
      "\u001b[32m[I 2020-06-08 17:19:17,080]\u001b[0m Setting status of trial#79 as TrialState.PRUNED. Trial was pruned at iteration 6.\u001b[0m\n",
      "\u001b[32m[I 2020-06-08 17:19:17,503]\u001b[0m Setting status of trial#80 as TrialState.PRUNED. Trial was pruned at iteration 6.\u001b[0m\n",
      "/Users/sidereus/.pyenv/versions/3.8.2/envs/mlopt/lib/python3.8/site-packages/numpy/lib/nanfunctions.py:1368: RuntimeWarning: Mean of empty slice\n",
      "  return np.nanmean(a, axis, out=out, keepdims=keepdims)\n",
      "\u001b[32m[I 2020-06-08 17:19:32,652]\u001b[0m Finished trial#81 with value: 1.0194976666666666 with parameters: {'lambda': 0.0008701631283369229, 'alpha': 0.00011991344168420771, 'max_depth': 13, 'eta': 0.22157986286448142, 'gamma': 0.26398381285512684, 'n_boost_round': 398}. Best is trial#73 with value: 0.9901896666666667.\u001b[0m\n",
      "\u001b[32m[I 2020-06-08 17:19:45,437]\u001b[0m Finished trial#82 with value: 1.028206 with parameters: {'lambda': 0.0007702786640696774, 'alpha': 0.00010520687965642834, 'max_depth': 13, 'eta': 0.23295889057413324, 'gamma': 0.14123981652028483, 'n_boost_round': 400}. Best is trial#73 with value: 0.9901896666666667.\u001b[0m\n",
      "\u001b[32m[I 2020-06-08 17:19:45,916]\u001b[0m Setting status of trial#83 as TrialState.PRUNED. Trial was pruned at iteration 6.\u001b[0m\n",
      "\u001b[32m[I 2020-06-08 17:19:46,499]\u001b[0m Setting status of trial#84 as TrialState.PRUNED. Trial was pruned at iteration 6.\u001b[0m\n",
      "\u001b[32m[I 2020-06-08 17:19:47,361]\u001b[0m Setting status of trial#85 as TrialState.PRUNED. Trial was pruned at iteration 16.\u001b[0m\n",
      "\u001b[32m[I 2020-06-08 17:19:47,722]\u001b[0m Setting status of trial#86 as TrialState.PRUNED. Trial was pruned at iteration 6.\u001b[0m\n",
      "\u001b[32m[I 2020-06-08 17:19:48,285]\u001b[0m Setting status of trial#87 as TrialState.PRUNED. Trial was pruned at iteration 6.\u001b[0m\n",
      "\u001b[32m[I 2020-06-08 17:19:53,309]\u001b[0m Finished trial#88 with value: 1.0528416666666667 with parameters: {'lambda': 0.03912294040928288, 'alpha': 7.815886054436205e-05, 'max_depth': 12, 'eta': 0.20386178368378458, 'gamma': 0.05119847929841342, 'n_boost_round': 171}. Best is trial#73 with value: 0.9901896666666667.\u001b[0m\n",
      "\u001b[32m[I 2020-06-08 17:19:53,847]\u001b[0m Setting status of trial#89 as TrialState.PRUNED. Trial was pruned at iteration 6.\u001b[0m\n",
      "\u001b[32m[I 2020-06-08 17:19:54,589]\u001b[0m Setting status of trial#90 as TrialState.PRUNED. Trial was pruned at iteration 6.\u001b[0m\n",
      "\u001b[32m[I 2020-06-08 17:20:07,161]\u001b[0m Finished trial#91 with value: 1.0419073333333333 with parameters: {'lambda': 0.0008244227709955079, 'alpha': 0.00010866829008539365, 'max_depth': 13, 'eta': 0.202628572370206, 'gamma': 0.1245106990561131, 'n_boost_round': 397}. Best is trial#73 with value: 0.9901896666666667.\u001b[0m\n",
      "\u001b[32m[I 2020-06-08 17:20:25,761]\u001b[0m Finished trial#92 with value: 1.0208273333333333 with parameters: {'lambda': 0.0014991912243391067, 'alpha': 3.312712399095411e-05, 'max_depth': 12, 'eta': 0.3035932240876778, 'gamma': 0.5734717989651194, 'n_boost_round': 383}. Best is trial#73 with value: 0.9901896666666667.\u001b[0m\n",
      "\u001b[32m[I 2020-06-08 17:20:26,245]\u001b[0m Setting status of trial#93 as TrialState.PRUNED. Trial was pruned at iteration 7.\u001b[0m\n",
      "\u001b[32m[I 2020-06-08 17:20:26,816]\u001b[0m Setting status of trial#94 as TrialState.PRUNED. Trial was pruned at iteration 6.\u001b[0m\n",
      "\u001b[32m[I 2020-06-08 17:20:27,771]\u001b[0m Setting status of trial#95 as TrialState.PRUNED. Trial was pruned at iteration 13.\u001b[0m\n",
      "\u001b[32m[I 2020-06-08 17:20:45,214]\u001b[0m Finished trial#96 with value: 1.0201443333333333 with parameters: {'lambda': 1.5795445524584504e-05, 'alpha': 9.715038915145814e-06, 'max_depth': 7, 'eta': 0.2719016803626899, 'gamma': 0.7869708505771805, 'n_boost_round': 338}. Best is trial#73 with value: 0.9901896666666667.\u001b[0m\n",
      "\u001b[32m[I 2020-06-08 17:20:46,692]\u001b[0m Setting status of trial#97 as TrialState.PRUNED. Trial was pruned at iteration 17.\u001b[0m\n",
      "\u001b[32m[I 2020-06-08 17:20:46,979]\u001b[0m Setting status of trial#98 as TrialState.PRUNED. Trial was pruned at iteration 6.\u001b[0m\n",
      "\u001b[32m[I 2020-06-08 17:20:47,475]\u001b[0m Setting status of trial#99 as TrialState.PRUNED. Trial was pruned at iteration 6.\u001b[0m\n"
     ]
    },
    {
     "name": "stdout",
     "output_type": "stream",
     "text": [
      "Study statistics: \n",
      "  Number of finished trials: 100\n",
      "  Number of pruned trials: 68\n",
      "  Number of complete trials: 32\n",
      "Best loss value: 0.9902\n",
      "Best parameters\n",
      "    lambda: 0.0010031975449322406\n",
      "    alpha: 5.1760109347002745e-05\n",
      "    max_depth: 1\n",
      "    eta: 0.3612632499913488\n",
      "    gamma: 0.6527394497972836\n",
      "    n_boost_round: 343\n",
      "Train with best parameters\n",
      "Training time 483.69\n",
      "Performance evaluation\n",
      "Compute tight constraints for test set (n_jobs = 1)\n"
     ]
    },
    {
     "data": {
      "application/vnd.jupyter.widget-view+json": {
       "model_id": "ae2787d6586d4bafa258eb61be7e7cab",
       "version_major": 2,
       "version_minor": 0
      },
      "text/plain": [
       "HBox(children=(FloatProgress(value=0.0), HTML(value='')))"
      ]
     },
     "metadata": {},
     "output_type": "display_data"
    },
    {
     "name": "stdout",
     "output_type": "stream",
     "text": [
      "\n",
      "Solver cache requested but the cache has not been computed for this problem. Possibly parameters in proble matrices.\n",
      "Predict tight constraints for test set\n"
     ]
    },
    {
     "data": {
      "application/vnd.jupyter.widget-view+json": {
       "model_id": "1dd9020f331e418a88cd3a33513d9a7d",
       "version_major": 2,
       "version_minor": 0
      },
      "text/plain": [
       "HBox(children=(FloatProgress(value=0.0), HTML(value='')))"
      ]
     },
     "metadata": {},
     "output_type": "display_data"
    },
    {
     "name": "stdout",
     "output_type": "stream",
     "text": [
      "\n",
      "Accuracy: 90.00 \n"
     ]
    }
   ],
   "source": [
    "problem = cp.Problem(cp.Minimize(cost), constraints)\n",
    "m = mlopt.Optimizer(problem)\n",
    "m.load_training_data(\"knapsack_training_data.pkl\")\n",
    "m.train(learner=mlopt.XGBOOST)  # Train after loading samples\n",
    "\n",
    "results = m.performance(theta_test)\n",
    "print(\"Accuracy: %.2f \" % results[0]['accuracy'])"
   ]
  },
  {
   "cell_type": "markdown",
   "metadata": {},
   "source": [
    "## Predict single point"
   ]
  },
  {
   "cell_type": "code",
   "execution_count": 12,
   "metadata": {},
   "outputs": [
    {
     "name": "stdout",
     "output_type": "stream",
     "text": [
      "Solver cache requested but the cache has not been computed for this problem. Possibly parameters in proble matrices.\n",
      "{'x': array([0., 1., 0., 0., 0., 0., 0., 0., 0., 1.]), 'time': 0.01966714859008789, 'strategy': Strategy\n",
      "  - Tight constraints:\n",
      "[False  True False  True  True  True  True  True  True  True False False\n",
      " False False False False False False False False False]\n",
      "  - Integer variables values:\n",
      "[ 0.  1. -0. -0. -0. -0. -0. -0. -0.  1.]\n",
      ", 'cost': -1.259141227445515, 'infeasibility': 0.0, 'pred_time': 0.014269828796386719, 'solve_time': 0.005397319793701172}\n"
     ]
    }
   ],
   "source": [
    "# Predict single point\n",
    "theta = theta_test.iloc[0]\n",
    "result_single_point = m.solve(theta)\n",
    "print(result_single_point)"
   ]
  },
  {
   "cell_type": "markdown",
   "metadata": {},
   "source": [
    "## Learn directly from points (talk directly to learner)"
   ]
  },
  {
   "cell_type": "code",
   "execution_count": null,
   "metadata": {},
   "outputs": [
    {
     "name": "stdout",
     "output_type": "stream",
     "text": [
      "Train XGBoost\n"
     ]
    },
    {
     "name": "stderr",
     "output_type": "stream",
     "text": [
      "\u001b[32m[I 2020-06-08 17:40:13,384]\u001b[0m Finished trial#0 with value: 1.041262 with parameters: {'lambda': 0.00035951528395198907, 'alpha': 0.004487430642551526, 'max_depth': 4, 'eta': 0.09545043768053617, 'gamma': 0.10791010062803776, 'n_boost_round': 261}. Best is trial#0 with value: 1.041262.\u001b[0m\n",
      "\u001b[32m[I 2020-06-08 17:40:36,658]\u001b[0m Finished trial#1 with value: 3.401189 with parameters: {'lambda': 0.0022992511193686686, 'alpha': 1.1749294175298198e-05, 'max_depth': 7, 'eta': 3.3689076275259848e-09, 'gamma': 1.8336991337206195e-06, 'n_boost_round': 243}. Best is trial#0 with value: 1.041262.\u001b[0m\n",
      "\u001b[32m[I 2020-06-08 17:40:45,424]\u001b[0m Finished trial#2 with value: 3.3960113333333335 with parameters: {'lambda': 0.037336472968807724, 'alpha': 8.303620896919176e-05, 'max_depth': 9, 'eta': 4.500939448451852e-06, 'gamma': 0.08715953304554301, 'n_boost_round': 122}. Best is trial#0 with value: 1.041262.\u001b[0m\n",
      "\u001b[32m[I 2020-06-08 17:40:57,594]\u001b[0m Finished trial#3 with value: 5.038075666666667 with parameters: {'lambda': 5.2876527967137755e-08, 'alpha': 1.5418847783441853e-09, 'max_depth': 4, 'eta': 0.7989670037749638, 'gamma': 1.4623658550645364e-07, 'n_boost_round': 388}. Best is trial#0 with value: 1.041262.\u001b[0m\n",
      "\u001b[32m[I 2020-06-08 17:41:22,515]\u001b[0m Finished trial#4 with value: 1.0111183333333333 with parameters: {'lambda': 8.539542219111328e-05, 'alpha': 0.028138110319138505, 'max_depth': 14, 'eta': 0.018185501461226373, 'gamma': 9.589579344201455e-08, 'n_boost_round': 338}. Best is trial#4 with value: 1.0111183333333333.\u001b[0m\n",
      "\u001b[32m[I 2020-06-08 17:41:25,665]\u001b[0m Setting status of trial#5 as TrialState.PRUNED. Trial was pruned at iteration 122.\u001b[0m\n",
      "\u001b[32m[I 2020-06-08 17:41:33,306]\u001b[0m Finished trial#6 with value: 3.2327193333333333 with parameters: {'lambda': 3.521683893733264e-07, 'alpha': 0.007146576876531505, 'max_depth': 13, 'eta': 0.00019365165323586946, 'gamma': 1.4321044592425395e-08, 'n_boost_round': 103}. Best is trial#4 with value: 1.0111183333333333.\u001b[0m\n",
      "\u001b[32m[I 2020-06-08 17:41:36,223]\u001b[0m Finished trial#7 with value: 1.2334873333333334 with parameters: {'lambda': 1.7476544296468125e-07, 'alpha': 1.1690091240143993e-07, 'max_depth': 2, 'eta': 0.5995552174012236, 'gamma': 0.004568890550697229, 'n_boost_round': 81}. Best is trial#4 with value: 1.0111183333333333.\u001b[0m\n",
      "\u001b[32m[I 2020-06-08 17:41:41,928]\u001b[0m Setting status of trial#8 as TrialState.PRUNED. Trial was pruned at iteration 243.\u001b[0m\n",
      "\u001b[32m[I 2020-06-08 17:41:51,092]\u001b[0m Setting status of trial#9 as TrialState.PRUNED. Trial was pruned at iteration 122.\u001b[0m\n",
      "\u001b[32m[I 2020-06-08 17:42:10,846]\u001b[0m Setting status of trial#10 as TrialState.PRUNED. Trial was pruned at iteration 243.\u001b[0m\n",
      "\u001b[32m[I 2020-06-08 17:42:30,834]\u001b[0m Setting status of trial#11 as TrialState.PRUNED. Trial was pruned at iteration 243.\u001b[0m\n",
      "\u001b[32m[I 2020-06-08 17:42:53,010]\u001b[0m Finished trial#12 with value: 1.0322986666666667 with parameters: {'lambda': 1.712230868952277e-05, 'alpha': 0.05872616979275944, 'max_depth': 11, 'eta': 0.016162754977831026, 'gamma': 1.9395762104100587, 'n_boost_round': 320}. Best is trial#4 with value: 1.0111183333333333.\u001b[0m\n",
      "\u001b[32m[I 2020-06-08 17:42:53,467]\u001b[0m Setting status of trial#13 as TrialState.PRUNED. Trial was pruned at iteration 6.\u001b[0m\n",
      "\u001b[32m[I 2020-06-08 17:42:54,121]\u001b[0m Setting status of trial#14 as TrialState.PRUNED. Trial was pruned at iteration 6.\u001b[0m\n",
      "\u001b[32m[I 2020-06-08 17:43:10,277]\u001b[0m Finished trial#15 with value: 1.0231296666666667 with parameters: {'lambda': 7.750917548413664e-06, 'alpha': 0.039015470926452606, 'max_depth': 13, 'eta': 0.05619764088807331, 'gamma': 1.609615196994262, 'n_boost_round': 194}. Best is trial#4 with value: 1.0111183333333333.\u001b[0m\n",
      "\u001b[32m[I 2020-06-08 17:43:17,086]\u001b[0m Finished trial#16 with value: 1.0727916666666666 with parameters: {'lambda': 1.4219952212610836e-08, 'alpha': 0.0005392253883974665, 'max_depth': 14, 'eta': 0.0933401522300197, 'gamma': 6.995166033167811e-05, 'n_boost_round': 189}. Best is trial#4 with value: 1.0111183333333333.\u001b[0m\n",
      "\u001b[32m[I 2020-06-08 17:43:17,511]\u001b[0m Setting status of trial#17 as TrialState.PRUNED. Trial was pruned at iteration 6.\u001b[0m\n",
      "\u001b[32m[I 2020-06-08 17:43:18,050]\u001b[0m Setting status of trial#18 as TrialState.PRUNED. Trial was pruned at iteration 6.\u001b[0m\n",
      "\u001b[32m[I 2020-06-08 17:43:18,570]\u001b[0m Setting status of trial#19 as TrialState.PRUNED. Trial was pruned at iteration 6.\u001b[0m\n",
      "\u001b[32m[I 2020-06-08 17:43:24,725]\u001b[0m Finished trial#20 with value: 1.077122 with parameters: {'lambda': 0.036529199627813196, 'alpha': 0.0007198812017009252, 'max_depth': 13, 'eta': 0.18516005898399623, 'gamma': 0.001162305428904039, 'n_boost_round': 158}. Best is trial#4 with value: 1.0111183333333333.\u001b[0m\n",
      "\u001b[32m[I 2020-06-08 17:43:25,527]\u001b[0m Setting status of trial#21 as TrialState.PRUNED. Trial was pruned at iteration 6.\u001b[0m\n",
      "\u001b[32m[I 2020-06-08 17:43:26,575]\u001b[0m Setting status of trial#22 as TrialState.PRUNED. Trial was pruned at iteration 6.\u001b[0m\n",
      "\u001b[32m[I 2020-06-08 17:43:44,382]\u001b[0m Finished trial#23 with value: 1.0336933333333334 with parameters: {'lambda': 0.00028195347092355795, 'alpha': 0.03775515867943109, 'max_depth': 12, 'eta': 0.04761236710513436, 'gamma': 0.017054718329737407, 'n_boost_round': 209}. Best is trial#4 with value: 1.0111183333333333.\u001b[0m\n",
      "\u001b[32m[I 2020-06-08 17:43:45,216]\u001b[0m Setting status of trial#24 as TrialState.PRUNED. Trial was pruned at iteration 6.\u001b[0m\n",
      "\u001b[32m[I 2020-06-08 17:43:46,055]\u001b[0m Setting status of trial#25 as TrialState.PRUNED. Trial was pruned at iteration 11.\u001b[0m\n"
     ]
    }
   ],
   "source": [
    "y = m.y_train\n",
    "X = m.X_train\n",
    "learner = XGBoost(n_input=n_features(X),\n",
    "                  n_classes=len(np.unique(y)),\n",
    "                  n_best=3)\n",
    "# Train learner\n",
    "learner.train(pandas2array(X), y)\n",
    "\n",
    "# Predict\n",
    "X_pred = X.iloc[0]\n",
    "y_pred = learner.predict(pandas2array(X_pred))  # n_best most likely classes"
   ]
  },
  {
   "cell_type": "code",
   "execution_count": null,
   "metadata": {},
   "outputs": [],
   "source": []
  }
 ],
 "metadata": {
  "kernelspec": {
   "display_name": "Python 3",
   "language": "python",
   "name": "python3"
  },
  "language_info": {
   "codemirror_mode": {
    "name": "ipython",
    "version": 3
   },
   "file_extension": ".py",
   "mimetype": "text/x-python",
   "name": "python",
   "nbconvert_exporter": "python",
   "pygments_lexer": "ipython3",
   "version": "3.8.2"
  }
 },
 "nbformat": 4,
 "nbformat_minor": 4
}
