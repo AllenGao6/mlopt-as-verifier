{
 "cells": [
  {
   "cell_type": "markdown",
   "metadata": {},
   "source": [
    "# MLOPT Knapsack Example"
   ]
  },
  {
   "cell_type": "code",
   "execution_count": 1,
   "metadata": {},
   "outputs": [],
   "source": [
    "import numpy as np\n",
    "import cvxpy as cp\n",
    "import pandas as pd\n",
    "import logging\n",
    "\n",
    "import mlopt\n",
    "from mlopt.sampling import uniform_sphere_sample\n",
    "from mlopt.learners import XGBoost\n",
    "from mlopt.utils import n_features, pandas2array"
   ]
  },
  {
   "cell_type": "markdown",
   "metadata": {},
   "source": [
    "## Generate problem data"
   ]
  },
  {
   "cell_type": "code",
   "execution_count": 2,
   "metadata": {},
   "outputs": [],
   "source": [
    "np.random.seed(1)  # Reset random seed for reproducibility\n",
    "\n",
    "# Variable\n",
    "n = 10\n",
    "x = cp.Variable(n, integer=True)\n",
    "\n",
    "# Cost\n",
    "c = np.random.rand(n)\n",
    "\n",
    "# Weights\n",
    "a = cp.Parameter(n, nonneg=True, name='a')\n",
    "x_u = cp.Parameter(n, nonneg=True, name='x_u')\n",
    "b = 0.5 * n"
   ]
  },
  {
   "cell_type": "markdown",
   "metadata": {},
   "source": [
    "## Create optimizer object"
   ]
  },
  {
   "cell_type": "code",
   "execution_count": 3,
   "metadata": {},
   "outputs": [],
   "source": [
    "# Problem\n",
    "cost = - c @ x\n",
    "constraints = [a @ x <= b,\n",
    "               0 <= x, x <= x_u]\n",
    "\n",
    "\n",
    "# Define optimizer\n",
    "# If you just want to remove too many messages\n",
    "# change INFO to WARNING\n",
    "m = mlopt.Optimizer(cp.Minimize(cost), constraints,\n",
    "                    log_level=logging.INFO)"
   ]
  },
  {
   "cell_type": "markdown",
   "metadata": {},
   "source": [
    "## Define training and testing parameters"
   ]
  },
  {
   "cell_type": "code",
   "execution_count": 4,
   "metadata": {},
   "outputs": [],
   "source": [
    "# Average request\n",
    "theta_bar = 2 * np.ones(2 * n)\n",
    "radius = 1.0\n",
    "\n",
    "\n",
    "def sample(theta_bar, radius, n=100):\n",
    "\n",
    "    # Sample points from multivariate ball\n",
    "    ndim = int(len(theta_bar)/2)\n",
    "    X_a = uniform_sphere_sample(theta_bar[:ndim], radius, n=n)\n",
    "    X_u = uniform_sphere_sample(theta_bar[ndim:], radius, n=n)\n",
    "\n",
    "    df = pd.DataFrame({\n",
    "        'a': list(X_a),\n",
    "        'x_u': list(X_u)\n",
    "        })\n",
    "\n",
    "    return df\n",
    "\n",
    "\n",
    "# Training and testing data\n",
    "n_train = 1000\n",
    "n_test = 100\n",
    "theta_train = sample(theta_bar, radius, n=n_train)\n",
    "theta_test = sample(theta_bar, radius, n=n_test)"
   ]
  },
  {
   "cell_type": "markdown",
   "metadata": {},
   "source": [
    "## Train predictor"
   ]
  },
  {
   "cell_type": "code",
   "execution_count": 5,
   "metadata": {},
   "outputs": [
    {
     "name": "stdout",
     "output_type": "stream",
     "text": [
      "Use new data\n",
      "Compute tight constraints for training set (n_jobs = 4)\n"
     ]
    },
    {
     "name": "stderr",
     "output_type": "stream",
     "text": [
      "100%|██████████| 1000/1000 [00:12<00:00, 79.95it/s]\n"
     ]
    },
    {
     "name": "stdout",
     "output_type": "stream",
     "text": [
      "Encoding strategies\n",
      "Getting unique set of strategies\n",
      "Found 43 unique strategies\n",
      "Caching KKT solver factors for each strategy (it works only for QP-representable problems with parameters only in constraints RHS)\n"
     ]
    },
    {
     "name": "stderr",
     "output_type": "stream",
     "text": [
      "100%|██████████| 43/43 [00:00<00:00, 92.99it/s]\n",
      "Converting dataframe to array: 100%|██████████| 1000/1000 [00:00<00:00, 6154.80it/s]"
     ]
    },
    {
     "name": "stdout",
     "output_type": "stream",
     "text": [
      "Train XGBoost\n"
     ]
    },
    {
     "name": "stderr",
     "output_type": "stream",
     "text": [
      "\n",
      "/Users/sidereus/miniconda3/envs/python37/lib/python3.7/site-packages/sklearn/model_selection/_split.py:667: UserWarning: The least populated class in y has only 1 members, which is less than n_splits=2.\n",
      "  % (min_groups, self.n_splits)), UserWarning)\n",
      "[Parallel(n_jobs=1)]: Using backend SequentialBackend with 1 concurrent workers.\n"
     ]
    },
    {
     "name": "stdout",
     "output_type": "stream",
     "text": [
      "Fitting 2 folds for each of 6 candidates, totalling 12 fits\n",
      "[CV] learning_rate=0.01, max_depth=1, n_estimators=50, objective=multi:softmax, seed=0 \n",
      "[CV]  learning_rate=0.01, max_depth=1, n_estimators=50, objective=multi:softmax, seed=0, score=0.674, total=   1.5s\n",
      "[CV] learning_rate=0.01, max_depth=1, n_estimators=50, objective=multi:softmax, seed=0 \n"
     ]
    },
    {
     "name": "stderr",
     "output_type": "stream",
     "text": [
      "[Parallel(n_jobs=1)]: Done   1 out of   1 | elapsed:    1.5s remaining:    0.0s\n"
     ]
    },
    {
     "name": "stdout",
     "output_type": "stream",
     "text": [
      "[CV]  learning_rate=0.01, max_depth=1, n_estimators=50, objective=multi:softmax, seed=0, score=0.698, total=   1.4s\n",
      "[CV] learning_rate=0.01, max_depth=5, n_estimators=50, objective=multi:softmax, seed=0 \n"
     ]
    },
    {
     "name": "stderr",
     "output_type": "stream",
     "text": [
      "[Parallel(n_jobs=1)]: Done   2 out of   2 | elapsed:    2.9s remaining:    0.0s\n"
     ]
    },
    {
     "name": "stdout",
     "output_type": "stream",
     "text": [
      "[CV]  learning_rate=0.01, max_depth=5, n_estimators=50, objective=multi:softmax, seed=0, score=0.756, total=   2.1s\n",
      "[CV] learning_rate=0.01, max_depth=5, n_estimators=50, objective=multi:softmax, seed=0 \n",
      "[CV]  learning_rate=0.01, max_depth=5, n_estimators=50, objective=multi:softmax, seed=0, score=0.750, total=   2.0s\n",
      "[CV] learning_rate=0.01, max_depth=10, n_estimators=50, objective=multi:softmax, seed=0 \n",
      "[CV]  learning_rate=0.01, max_depth=10, n_estimators=50, objective=multi:softmax, seed=0, score=0.758, total=   2.4s\n",
      "[CV] learning_rate=0.01, max_depth=10, n_estimators=50, objective=multi:softmax, seed=0 \n",
      "[CV]  learning_rate=0.01, max_depth=10, n_estimators=50, objective=multi:softmax, seed=0, score=0.752, total=   3.3s\n",
      "[CV] learning_rate=0.1, max_depth=1, n_estimators=50, objective=multi:softmax, seed=0 \n",
      "[CV]  learning_rate=0.1, max_depth=1, n_estimators=50, objective=multi:softmax, seed=0, score=0.690, total=   1.1s\n",
      "[CV] learning_rate=0.1, max_depth=1, n_estimators=50, objective=multi:softmax, seed=0 \n",
      "[CV]  learning_rate=0.1, max_depth=1, n_estimators=50, objective=multi:softmax, seed=0, score=0.732, total=   2.0s\n",
      "[CV] learning_rate=0.1, max_depth=5, n_estimators=50, objective=multi:softmax, seed=0 \n",
      "[CV]  learning_rate=0.1, max_depth=5, n_estimators=50, objective=multi:softmax, seed=0, score=0.758, total=   2.1s\n",
      "[CV] learning_rate=0.1, max_depth=5, n_estimators=50, objective=multi:softmax, seed=0 \n",
      "[CV]  learning_rate=0.1, max_depth=5, n_estimators=50, objective=multi:softmax, seed=0, score=0.752, total=   2.0s\n",
      "[CV] learning_rate=0.1, max_depth=10, n_estimators=50, objective=multi:softmax, seed=0 \n",
      "[CV]  learning_rate=0.1, max_depth=10, n_estimators=50, objective=multi:softmax, seed=0, score=0.752, total=   1.8s\n",
      "[CV] learning_rate=0.1, max_depth=10, n_estimators=50, objective=multi:softmax, seed=0 \n",
      "[CV]  learning_rate=0.1, max_depth=10, n_estimators=50, objective=multi:softmax, seed=0, score=0.758, total=   1.8s\n"
     ]
    },
    {
     "name": "stderr",
     "output_type": "stream",
     "text": [
      "[Parallel(n_jobs=1)]: Done  12 out of  12 | elapsed:   23.5s finished\n"
     ]
    },
    {
     "name": "stdout",
     "output_type": "stream",
     "text": [
      "Best parameters\n",
      "{'learning_rate': 0.01, 'max_depth': 10, 'n_estimators': 50, 'objective': 'multi:softmax', 'seed': 0}\n",
      "Tree training time 28.42\n"
     ]
    }
   ],
   "source": [
    "params = {\n",
    "    'learning_rate': [0.01, 0.1],\n",
    "    'n_estimators': [50],\n",
    "}\n",
    "m.train(theta_train, learner=mlopt.XGBOOST, params=params, n_folds=2)\n"
   ]
  },
  {
   "cell_type": "markdown",
   "metadata": {},
   "source": [
    "## Benchmark on testing dataset"
   ]
  },
  {
   "cell_type": "code",
   "execution_count": 6,
   "metadata": {},
   "outputs": [
    {
     "name": "stdout",
     "output_type": "stream",
     "text": [
      "Performance evaluation\n",
      "Compute tight constraints for test set (n_jobs = 1)\n"
     ]
    },
    {
     "name": "stderr",
     "output_type": "stream",
     "text": [
      "  0%|          | 0/100 [00:00<?, ?it/s]"
     ]
    },
    {
     "name": "stdout",
     "output_type": "stream",
     "text": [
      "Academic license - for non-commercial use only\n"
     ]
    },
    {
     "name": "stderr",
     "output_type": "stream",
     "text": [
      "100%|██████████| 100/100 [00:01<00:00, 79.05it/s]\n",
      "Converting dataframe to array: 100%|██████████| 100/100 [00:00<00:00, 4223.83it/s]"
     ]
    },
    {
     "name": "stdout",
     "output_type": "stream",
     "text": [
      "Predict tight constraints for test set\n"
     ]
    },
    {
     "name": "stderr",
     "output_type": "stream",
     "text": [
      "\n",
      "100%|██████████| 100/100 [00:09<00:00, 10.36it/s]"
     ]
    },
    {
     "name": "stdout",
     "output_type": "stream",
     "text": [
      "Accuracy: 88.00 \n"
     ]
    },
    {
     "name": "stderr",
     "output_type": "stream",
     "text": [
      "\n"
     ]
    }
   ],
   "source": [
    "results = m.performance(theta_test)\n",
    "print(\"Accuracy: %.2f \" % results[0]['accuracy'])"
   ]
  },
  {
   "cell_type": "markdown",
   "metadata": {},
   "source": [
    "## Save training data"
   ]
  },
  {
   "cell_type": "code",
   "execution_count": 7,
   "metadata": {},
   "outputs": [],
   "source": [
    "m.save_training_data(\"training_data.pkl\", delete_existing=True)"
   ]
  },
  {
   "cell_type": "markdown",
   "metadata": {},
   "source": [
    "## Create new solver and train passing loaded data"
   ]
  },
  {
   "cell_type": "code",
   "execution_count": 9,
   "metadata": {},
   "outputs": [
    {
     "name": "stdout",
     "output_type": "stream",
     "text": [
      "Caching KKT solver factors for each strategy (it works only for QP-representable problems with parameters only in constraints RHS)\n"
     ]
    },
    {
     "name": "stderr",
     "output_type": "stream",
     "text": [
      "100%|██████████| 43/43 [00:00<00:00, 87.63it/s]\n",
      "Converting dataframe to array: 100%|██████████| 1000/1000 [00:00<00:00, 6576.13it/s]"
     ]
    },
    {
     "name": "stdout",
     "output_type": "stream",
     "text": [
      "Train XGBoost\n"
     ]
    },
    {
     "name": "stderr",
     "output_type": "stream",
     "text": [
      "\n",
      "/Users/sidereus/miniconda3/envs/python37/lib/python3.7/site-packages/sklearn/model_selection/_split.py:667: UserWarning: The least populated class in y has only 1 members, which is less than n_splits=5.\n",
      "  % (min_groups, self.n_splits)), UserWarning)\n",
      "[Parallel(n_jobs=1)]: Using backend SequentialBackend with 1 concurrent workers.\n"
     ]
    },
    {
     "name": "stdout",
     "output_type": "stream",
     "text": [
      "Fitting 5 folds for each of 6 candidates, totalling 30 fits\n",
      "[CV] batch_size=32, learning_rate=0.01, max_depth=1, n_epochs=20, n_estimators=50, n_hidden=31, objective=multi:softmax, seed=0 \n",
      "[CV]  batch_size=32, learning_rate=0.01, max_depth=1, n_epochs=20, n_estimators=50, n_hidden=31, objective=multi:softmax, seed=0, score=0.700, total=   1.6s\n",
      "[CV] batch_size=32, learning_rate=0.01, max_depth=1, n_epochs=20, n_estimators=50, n_hidden=31, objective=multi:softmax, seed=0 \n"
     ]
    },
    {
     "name": "stderr",
     "output_type": "stream",
     "text": [
      "[Parallel(n_jobs=1)]: Done   1 out of   1 | elapsed:    1.6s remaining:    0.0s\n"
     ]
    },
    {
     "name": "stdout",
     "output_type": "stream",
     "text": [
      "[CV]  batch_size=32, learning_rate=0.01, max_depth=1, n_epochs=20, n_estimators=50, n_hidden=31, objective=multi:softmax, seed=0, score=0.670, total=   1.6s\n",
      "[CV] batch_size=32, learning_rate=0.01, max_depth=1, n_epochs=20, n_estimators=50, n_hidden=31, objective=multi:softmax, seed=0 \n"
     ]
    },
    {
     "name": "stderr",
     "output_type": "stream",
     "text": [
      "[Parallel(n_jobs=1)]: Done   2 out of   2 | elapsed:    3.2s remaining:    0.0s\n"
     ]
    },
    {
     "name": "stdout",
     "output_type": "stream",
     "text": [
      "[CV]  batch_size=32, learning_rate=0.01, max_depth=1, n_epochs=20, n_estimators=50, n_hidden=31, objective=multi:softmax, seed=0, score=0.670, total=   1.6s\n",
      "[CV] batch_size=32, learning_rate=0.01, max_depth=1, n_epochs=20, n_estimators=50, n_hidden=31, objective=multi:softmax, seed=0 \n",
      "[CV]  batch_size=32, learning_rate=0.01, max_depth=1, n_epochs=20, n_estimators=50, n_hidden=31, objective=multi:softmax, seed=0, score=0.710, total=   1.6s\n",
      "[CV] batch_size=32, learning_rate=0.01, max_depth=1, n_epochs=20, n_estimators=50, n_hidden=31, objective=multi:softmax, seed=0 \n",
      "[CV]  batch_size=32, learning_rate=0.01, max_depth=1, n_epochs=20, n_estimators=50, n_hidden=31, objective=multi:softmax, seed=0, score=0.695, total=   1.6s\n",
      "[CV] batch_size=32, learning_rate=0.01, max_depth=5, n_epochs=20, n_estimators=50, n_hidden=31, objective=multi:softmax, seed=0 \n",
      "[CV]  batch_size=32, learning_rate=0.01, max_depth=5, n_epochs=20, n_estimators=50, n_hidden=31, objective=multi:softmax, seed=0, score=0.760, total=   3.3s\n",
      "[CV] batch_size=32, learning_rate=0.01, max_depth=5, n_epochs=20, n_estimators=50, n_hidden=31, objective=multi:softmax, seed=0 \n",
      "[CV]  batch_size=32, learning_rate=0.01, max_depth=5, n_epochs=20, n_estimators=50, n_hidden=31, objective=multi:softmax, seed=0, score=0.765, total=   3.3s\n",
      "[CV] batch_size=32, learning_rate=0.01, max_depth=5, n_epochs=20, n_estimators=50, n_hidden=31, objective=multi:softmax, seed=0 \n",
      "[CV]  batch_size=32, learning_rate=0.01, max_depth=5, n_epochs=20, n_estimators=50, n_hidden=31, objective=multi:softmax, seed=0, score=0.775, total=   5.4s\n",
      "[CV] batch_size=32, learning_rate=0.01, max_depth=5, n_epochs=20, n_estimators=50, n_hidden=31, objective=multi:softmax, seed=0 \n",
      "[CV]  batch_size=32, learning_rate=0.01, max_depth=5, n_epochs=20, n_estimators=50, n_hidden=31, objective=multi:softmax, seed=0, score=0.750, total=   3.4s\n",
      "[CV] batch_size=32, learning_rate=0.01, max_depth=5, n_epochs=20, n_estimators=50, n_hidden=31, objective=multi:softmax, seed=0 \n",
      "[CV]  batch_size=32, learning_rate=0.01, max_depth=5, n_epochs=20, n_estimators=50, n_hidden=31, objective=multi:softmax, seed=0, score=0.770, total=   5.5s\n",
      "[CV] batch_size=32, learning_rate=0.01, max_depth=10, n_epochs=20, n_estimators=50, n_hidden=31, objective=multi:softmax, seed=0 \n",
      "[CV]  batch_size=32, learning_rate=0.01, max_depth=10, n_epochs=20, n_estimators=50, n_hidden=31, objective=multi:softmax, seed=0, score=0.760, total=   3.3s\n",
      "[CV] batch_size=32, learning_rate=0.01, max_depth=10, n_epochs=20, n_estimators=50, n_hidden=31, objective=multi:softmax, seed=0 \n",
      "[CV]  batch_size=32, learning_rate=0.01, max_depth=10, n_epochs=20, n_estimators=50, n_hidden=31, objective=multi:softmax, seed=0, score=0.770, total=   3.3s\n",
      "[CV] batch_size=32, learning_rate=0.01, max_depth=10, n_epochs=20, n_estimators=50, n_hidden=31, objective=multi:softmax, seed=0 \n",
      "[CV]  batch_size=32, learning_rate=0.01, max_depth=10, n_epochs=20, n_estimators=50, n_hidden=31, objective=multi:softmax, seed=0, score=0.785, total=   3.7s\n",
      "[CV] batch_size=32, learning_rate=0.01, max_depth=10, n_epochs=20, n_estimators=50, n_hidden=31, objective=multi:softmax, seed=0 \n",
      "[CV]  batch_size=32, learning_rate=0.01, max_depth=10, n_epochs=20, n_estimators=50, n_hidden=31, objective=multi:softmax, seed=0, score=0.750, total=   3.3s\n",
      "[CV] batch_size=32, learning_rate=0.01, max_depth=10, n_epochs=20, n_estimators=50, n_hidden=31, objective=multi:softmax, seed=0 \n",
      "[CV]  batch_size=32, learning_rate=0.01, max_depth=10, n_epochs=20, n_estimators=50, n_hidden=31, objective=multi:softmax, seed=0, score=0.770, total=   3.1s\n",
      "[CV] batch_size=32, learning_rate=0.1, max_depth=1, n_epochs=20, n_estimators=50, n_hidden=31, objective=multi:softmax, seed=0 \n",
      "[CV]  batch_size=32, learning_rate=0.1, max_depth=1, n_epochs=20, n_estimators=50, n_hidden=31, objective=multi:softmax, seed=0, score=0.740, total=   1.9s\n",
      "[CV] batch_size=32, learning_rate=0.1, max_depth=1, n_epochs=20, n_estimators=50, n_hidden=31, objective=multi:softmax, seed=0 \n",
      "[CV]  batch_size=32, learning_rate=0.1, max_depth=1, n_epochs=20, n_estimators=50, n_hidden=31, objective=multi:softmax, seed=0, score=0.735, total=   2.0s\n",
      "[CV] batch_size=32, learning_rate=0.1, max_depth=1, n_epochs=20, n_estimators=50, n_hidden=31, objective=multi:softmax, seed=0 \n",
      "[CV]  batch_size=32, learning_rate=0.1, max_depth=1, n_epochs=20, n_estimators=50, n_hidden=31, objective=multi:softmax, seed=0, score=0.735, total=   2.1s\n",
      "[CV] batch_size=32, learning_rate=0.1, max_depth=1, n_epochs=20, n_estimators=50, n_hidden=31, objective=multi:softmax, seed=0 \n",
      "[CV]  batch_size=32, learning_rate=0.1, max_depth=1, n_epochs=20, n_estimators=50, n_hidden=31, objective=multi:softmax, seed=0, score=0.740, total=   1.9s\n",
      "[CV] batch_size=32, learning_rate=0.1, max_depth=1, n_epochs=20, n_estimators=50, n_hidden=31, objective=multi:softmax, seed=0 \n",
      "[CV]  batch_size=32, learning_rate=0.1, max_depth=1, n_epochs=20, n_estimators=50, n_hidden=31, objective=multi:softmax, seed=0, score=0.740, total=   1.9s\n",
      "[CV] batch_size=32, learning_rate=0.1, max_depth=5, n_epochs=20, n_estimators=50, n_hidden=31, objective=multi:softmax, seed=0 \n",
      "[CV]  batch_size=32, learning_rate=0.1, max_depth=5, n_epochs=20, n_estimators=50, n_hidden=31, objective=multi:softmax, seed=0, score=0.775, total=   3.4s\n",
      "[CV] batch_size=32, learning_rate=0.1, max_depth=5, n_epochs=20, n_estimators=50, n_hidden=31, objective=multi:softmax, seed=0 \n",
      "[CV]  batch_size=32, learning_rate=0.1, max_depth=5, n_epochs=20, n_estimators=50, n_hidden=31, objective=multi:softmax, seed=0, score=0.800, total=   3.6s\n",
      "[CV] batch_size=32, learning_rate=0.1, max_depth=5, n_epochs=20, n_estimators=50, n_hidden=31, objective=multi:softmax, seed=0 \n",
      "[CV]  batch_size=32, learning_rate=0.1, max_depth=5, n_epochs=20, n_estimators=50, n_hidden=31, objective=multi:softmax, seed=0, score=0.790, total=   3.1s\n",
      "[CV] batch_size=32, learning_rate=0.1, max_depth=5, n_epochs=20, n_estimators=50, n_hidden=31, objective=multi:softmax, seed=0 \n",
      "[CV]  batch_size=32, learning_rate=0.1, max_depth=5, n_epochs=20, n_estimators=50, n_hidden=31, objective=multi:softmax, seed=0, score=0.765, total=   3.4s\n",
      "[CV] batch_size=32, learning_rate=0.1, max_depth=5, n_epochs=20, n_estimators=50, n_hidden=31, objective=multi:softmax, seed=0 \n",
      "[CV]  batch_size=32, learning_rate=0.1, max_depth=5, n_epochs=20, n_estimators=50, n_hidden=31, objective=multi:softmax, seed=0, score=0.780, total=   3.0s\n",
      "[CV] batch_size=32, learning_rate=0.1, max_depth=10, n_epochs=20, n_estimators=50, n_hidden=31, objective=multi:softmax, seed=0 \n",
      "[CV]  batch_size=32, learning_rate=0.1, max_depth=10, n_epochs=20, n_estimators=50, n_hidden=31, objective=multi:softmax, seed=0, score=0.795, total=   3.2s\n",
      "[CV] batch_size=32, learning_rate=0.1, max_depth=10, n_epochs=20, n_estimators=50, n_hidden=31, objective=multi:softmax, seed=0 \n",
      "[CV]  batch_size=32, learning_rate=0.1, max_depth=10, n_epochs=20, n_estimators=50, n_hidden=31, objective=multi:softmax, seed=0, score=0.800, total=   3.0s\n",
      "[CV] batch_size=32, learning_rate=0.1, max_depth=10, n_epochs=20, n_estimators=50, n_hidden=31, objective=multi:softmax, seed=0 \n",
      "[CV]  batch_size=32, learning_rate=0.1, max_depth=10, n_epochs=20, n_estimators=50, n_hidden=31, objective=multi:softmax, seed=0, score=0.775, total=   3.0s\n",
      "[CV] batch_size=32, learning_rate=0.1, max_depth=10, n_epochs=20, n_estimators=50, n_hidden=31, objective=multi:softmax, seed=0 \n",
      "[CV]  batch_size=32, learning_rate=0.1, max_depth=10, n_epochs=20, n_estimators=50, n_hidden=31, objective=multi:softmax, seed=0, score=0.785, total=   2.9s\n",
      "[CV] batch_size=32, learning_rate=0.1, max_depth=10, n_epochs=20, n_estimators=50, n_hidden=31, objective=multi:softmax, seed=0 \n",
      "[CV]  batch_size=32, learning_rate=0.1, max_depth=10, n_epochs=20, n_estimators=50, n_hidden=31, objective=multi:softmax, seed=0, score=0.780, total=   2.8s\n"
     ]
    },
    {
     "name": "stderr",
     "output_type": "stream",
     "text": [
      "[Parallel(n_jobs=1)]: Done  30 out of  30 | elapsed:  1.4min finished\n"
     ]
    },
    {
     "name": "stdout",
     "output_type": "stream",
     "text": [
      "Best parameters\n",
      "{'batch_size': 32, 'learning_rate': 0.1, 'max_depth': 10, 'n_epochs': 20, 'n_estimators': 50, 'n_hidden': 31, 'objective': 'multi:softmax', 'seed': 0}\n",
      "Tree training time 90.71\n",
      "Performance evaluation\n",
      "Compute tight constraints for test set (n_jobs = 1)\n"
     ]
    },
    {
     "name": "stderr",
     "output_type": "stream",
     "text": [
      "100%|██████████| 100/100 [00:02<00:00, 37.84it/s]\n",
      "Converting dataframe to array: 100%|██████████| 100/100 [00:00<00:00, 1056.01it/s]"
     ]
    },
    {
     "name": "stdout",
     "output_type": "stream",
     "text": [
      "Predict tight constraints for test set\n"
     ]
    },
    {
     "name": "stderr",
     "output_type": "stream",
     "text": [
      "\n",
      "100%|██████████| 100/100 [00:12<00:00,  8.05it/s]"
     ]
    },
    {
     "name": "stdout",
     "output_type": "stream",
     "text": [
      "Accuracy: 93.00 \n"
     ]
    },
    {
     "name": "stderr",
     "output_type": "stream",
     "text": [
      "\n"
     ]
    }
   ],
   "source": [
    "m = mlopt.Optimizer(cp.Minimize(cost), constraints)\n",
    "m.load_training_data(\"training_data.pkl\")\n",
    "m.train(learner=mlopt.XGBOOST, params=params)  # Train after loading samples\n",
    "\n",
    "results = m.performance(theta_test)\n",
    "print(\"Accuracy: %.2f \" % results[0]['accuracy'])"
   ]
  },
  {
   "cell_type": "markdown",
   "metadata": {},
   "source": [
    "## Predict single point"
   ]
  },
  {
   "cell_type": "code",
   "execution_count": 10,
   "metadata": {},
   "outputs": [
    {
     "name": "stderr",
     "output_type": "stream",
     "text": [
      "Converting dataframe to array: 100%|██████████| 1/1 [00:00<00:00, 92.72it/s]"
     ]
    },
    {
     "name": "stdout",
     "output_type": "stream",
     "text": [
      "Predict optimal solution\n"
     ]
    },
    {
     "name": "stderr",
     "output_type": "stream",
     "text": [
      "\n",
      "100%|██████████| 1/1 [00:00<00:00,  6.53it/s]\n"
     ]
    },
    {
     "name": "stdout",
     "output_type": "stream",
     "text": [
      "{'x': array([0., 1., 0., 0., 0., 0., 0., 0., 0., 1.]), 'time': 0.002871990203857422, 'strategy': Strategy\n",
      "  - Tight constraints:\n",
      "         id: elements\n",
      "          7: False\n",
      "         11: [ True False  True  True  True  True  True  True  True False]\n",
      "         15: [False False False False False False False False False False]\n",
      "  - Integer variables values:\n",
      "         id: elements\n",
      "          0: [0 1 0 0 0 0 0 0 0 1], 'cost': -1.259141227445515, 'infeasibility': 0.0, 'pred_time': 0.0008840560913085938, 'solve_time': 0.001987934112548828}\n"
     ]
    }
   ],
   "source": [
    "# Predict single point\n",
    "theta = theta_test.iloc[0]\n",
    "result_single_point = m.solve(theta)\n",
    "print(result_single_point)"
   ]
  },
  {
   "cell_type": "markdown",
   "metadata": {},
   "source": [
    "## Learn directly from points (talk directly to learner)"
   ]
  },
  {
   "cell_type": "code",
   "execution_count": 11,
   "metadata": {},
   "outputs": [
    {
     "name": "stderr",
     "output_type": "stream",
     "text": [
      "Converting dataframe to array: 100%|██████████| 1000/1000 [00:00<00:00, 4294.78it/s]"
     ]
    },
    {
     "name": "stdout",
     "output_type": "stream",
     "text": [
      "Train XGBoost\n"
     ]
    },
    {
     "name": "stderr",
     "output_type": "stream",
     "text": [
      "\n",
      "/Users/sidereus/miniconda3/envs/python37/lib/python3.7/site-packages/sklearn/model_selection/_split.py:667: UserWarning: The least populated class in y has only 1 members, which is less than n_splits=5.\n",
      "  % (min_groups, self.n_splits)), UserWarning)\n",
      "[Parallel(n_jobs=1)]: Using backend SequentialBackend with 1 concurrent workers.\n"
     ]
    },
    {
     "name": "stdout",
     "output_type": "stream",
     "text": [
      "Fitting 5 folds for each of 6 candidates, totalling 30 fits\n",
      "[CV] batch_size=32, learning_rate=0.01, max_depth=1, n_epochs=20, n_estimators=50, n_hidden=31, objective=multi:softmax, seed=0 \n",
      "[CV]  batch_size=32, learning_rate=0.01, max_depth=1, n_epochs=20, n_estimators=50, n_hidden=31, objective=multi:softmax, seed=0, score=0.700, total=   3.1s\n",
      "[CV] batch_size=32, learning_rate=0.01, max_depth=1, n_epochs=20, n_estimators=50, n_hidden=31, objective=multi:softmax, seed=0 \n"
     ]
    },
    {
     "name": "stderr",
     "output_type": "stream",
     "text": [
      "[Parallel(n_jobs=1)]: Done   1 out of   1 | elapsed:    3.1s remaining:    0.0s\n"
     ]
    },
    {
     "name": "stdout",
     "output_type": "stream",
     "text": [
      "[CV]  batch_size=32, learning_rate=0.01, max_depth=1, n_epochs=20, n_estimators=50, n_hidden=31, objective=multi:softmax, seed=0, score=0.670, total=   1.8s\n",
      "[CV] batch_size=32, learning_rate=0.01, max_depth=1, n_epochs=20, n_estimators=50, n_hidden=31, objective=multi:softmax, seed=0 \n"
     ]
    },
    {
     "name": "stderr",
     "output_type": "stream",
     "text": [
      "[Parallel(n_jobs=1)]: Done   2 out of   2 | elapsed:    4.9s remaining:    0.0s\n"
     ]
    },
    {
     "name": "stdout",
     "output_type": "stream",
     "text": [
      "[CV]  batch_size=32, learning_rate=0.01, max_depth=1, n_epochs=20, n_estimators=50, n_hidden=31, objective=multi:softmax, seed=0, score=0.670, total=   1.6s\n",
      "[CV] batch_size=32, learning_rate=0.01, max_depth=1, n_epochs=20, n_estimators=50, n_hidden=31, objective=multi:softmax, seed=0 \n",
      "[CV]  batch_size=32, learning_rate=0.01, max_depth=1, n_epochs=20, n_estimators=50, n_hidden=31, objective=multi:softmax, seed=0, score=0.710, total=   1.6s\n",
      "[CV] batch_size=32, learning_rate=0.01, max_depth=1, n_epochs=20, n_estimators=50, n_hidden=31, objective=multi:softmax, seed=0 \n",
      "[CV]  batch_size=32, learning_rate=0.01, max_depth=1, n_epochs=20, n_estimators=50, n_hidden=31, objective=multi:softmax, seed=0, score=0.695, total=   1.9s\n",
      "[CV] batch_size=32, learning_rate=0.01, max_depth=5, n_epochs=20, n_estimators=50, n_hidden=31, objective=multi:softmax, seed=0 \n",
      "[CV]  batch_size=32, learning_rate=0.01, max_depth=5, n_epochs=20, n_estimators=50, n_hidden=31, objective=multi:softmax, seed=0, score=0.760, total=   7.4s\n",
      "[CV] batch_size=32, learning_rate=0.01, max_depth=5, n_epochs=20, n_estimators=50, n_hidden=31, objective=multi:softmax, seed=0 \n",
      "[CV]  batch_size=32, learning_rate=0.01, max_depth=5, n_epochs=20, n_estimators=50, n_hidden=31, objective=multi:softmax, seed=0, score=0.765, total=   4.6s\n",
      "[CV] batch_size=32, learning_rate=0.01, max_depth=5, n_epochs=20, n_estimators=50, n_hidden=31, objective=multi:softmax, seed=0 \n",
      "[CV]  batch_size=32, learning_rate=0.01, max_depth=5, n_epochs=20, n_estimators=50, n_hidden=31, objective=multi:softmax, seed=0, score=0.775, total=   3.1s\n",
      "[CV] batch_size=32, learning_rate=0.01, max_depth=5, n_epochs=20, n_estimators=50, n_hidden=31, objective=multi:softmax, seed=0 \n",
      "[CV]  batch_size=32, learning_rate=0.01, max_depth=5, n_epochs=20, n_estimators=50, n_hidden=31, objective=multi:softmax, seed=0, score=0.750, total=   3.8s\n",
      "[CV] batch_size=32, learning_rate=0.01, max_depth=5, n_epochs=20, n_estimators=50, n_hidden=31, objective=multi:softmax, seed=0 \n",
      "[CV]  batch_size=32, learning_rate=0.01, max_depth=5, n_epochs=20, n_estimators=50, n_hidden=31, objective=multi:softmax, seed=0, score=0.770, total=   3.3s\n",
      "[CV] batch_size=32, learning_rate=0.01, max_depth=10, n_epochs=20, n_estimators=50, n_hidden=31, objective=multi:softmax, seed=0 \n",
      "[CV]  batch_size=32, learning_rate=0.01, max_depth=10, n_epochs=20, n_estimators=50, n_hidden=31, objective=multi:softmax, seed=0, score=0.760, total=   3.2s\n",
      "[CV] batch_size=32, learning_rate=0.01, max_depth=10, n_epochs=20, n_estimators=50, n_hidden=31, objective=multi:softmax, seed=0 \n",
      "[CV]  batch_size=32, learning_rate=0.01, max_depth=10, n_epochs=20, n_estimators=50, n_hidden=31, objective=multi:softmax, seed=0, score=0.770, total=   3.4s\n",
      "[CV] batch_size=32, learning_rate=0.01, max_depth=10, n_epochs=20, n_estimators=50, n_hidden=31, objective=multi:softmax, seed=0 \n",
      "[CV]  batch_size=32, learning_rate=0.01, max_depth=10, n_epochs=20, n_estimators=50, n_hidden=31, objective=multi:softmax, seed=0, score=0.785, total=   3.1s\n",
      "[CV] batch_size=32, learning_rate=0.01, max_depth=10, n_epochs=20, n_estimators=50, n_hidden=31, objective=multi:softmax, seed=0 \n",
      "[CV]  batch_size=32, learning_rate=0.01, max_depth=10, n_epochs=20, n_estimators=50, n_hidden=31, objective=multi:softmax, seed=0, score=0.750, total=   3.0s\n",
      "[CV] batch_size=32, learning_rate=0.01, max_depth=10, n_epochs=20, n_estimators=50, n_hidden=31, objective=multi:softmax, seed=0 \n",
      "[CV]  batch_size=32, learning_rate=0.01, max_depth=10, n_epochs=20, n_estimators=50, n_hidden=31, objective=multi:softmax, seed=0, score=0.770, total=   3.0s\n",
      "[CV] batch_size=32, learning_rate=0.1, max_depth=1, n_epochs=20, n_estimators=50, n_hidden=31, objective=multi:softmax, seed=0 \n",
      "[CV]  batch_size=32, learning_rate=0.1, max_depth=1, n_epochs=20, n_estimators=50, n_hidden=31, objective=multi:softmax, seed=0, score=0.740, total=   1.5s\n",
      "[CV] batch_size=32, learning_rate=0.1, max_depth=1, n_epochs=20, n_estimators=50, n_hidden=31, objective=multi:softmax, seed=0 \n",
      "[CV]  batch_size=32, learning_rate=0.1, max_depth=1, n_epochs=20, n_estimators=50, n_hidden=31, objective=multi:softmax, seed=0, score=0.735, total=   1.6s\n",
      "[CV] batch_size=32, learning_rate=0.1, max_depth=1, n_epochs=20, n_estimators=50, n_hidden=31, objective=multi:softmax, seed=0 \n",
      "[CV]  batch_size=32, learning_rate=0.1, max_depth=1, n_epochs=20, n_estimators=50, n_hidden=31, objective=multi:softmax, seed=0, score=0.735, total=   1.6s\n",
      "[CV] batch_size=32, learning_rate=0.1, max_depth=1, n_epochs=20, n_estimators=50, n_hidden=31, objective=multi:softmax, seed=0 \n",
      "[CV]  batch_size=32, learning_rate=0.1, max_depth=1, n_epochs=20, n_estimators=50, n_hidden=31, objective=multi:softmax, seed=0, score=0.740, total=   1.6s\n",
      "[CV] batch_size=32, learning_rate=0.1, max_depth=1, n_epochs=20, n_estimators=50, n_hidden=31, objective=multi:softmax, seed=0 \n",
      "[CV]  batch_size=32, learning_rate=0.1, max_depth=1, n_epochs=20, n_estimators=50, n_hidden=31, objective=multi:softmax, seed=0, score=0.740, total=   1.5s\n",
      "[CV] batch_size=32, learning_rate=0.1, max_depth=5, n_epochs=20, n_estimators=50, n_hidden=31, objective=multi:softmax, seed=0 \n",
      "[CV]  batch_size=32, learning_rate=0.1, max_depth=5, n_epochs=20, n_estimators=50, n_hidden=31, objective=multi:softmax, seed=0, score=0.775, total=   5.4s\n",
      "[CV] batch_size=32, learning_rate=0.1, max_depth=5, n_epochs=20, n_estimators=50, n_hidden=31, objective=multi:softmax, seed=0 \n",
      "[CV]  batch_size=32, learning_rate=0.1, max_depth=5, n_epochs=20, n_estimators=50, n_hidden=31, objective=multi:softmax, seed=0, score=0.800, total=   4.8s\n",
      "[CV] batch_size=32, learning_rate=0.1, max_depth=5, n_epochs=20, n_estimators=50, n_hidden=31, objective=multi:softmax, seed=0 \n",
      "[CV]  batch_size=32, learning_rate=0.1, max_depth=5, n_epochs=20, n_estimators=50, n_hidden=31, objective=multi:softmax, seed=0, score=0.790, total=   2.9s\n",
      "[CV] batch_size=32, learning_rate=0.1, max_depth=5, n_epochs=20, n_estimators=50, n_hidden=31, objective=multi:softmax, seed=0 \n",
      "[CV]  batch_size=32, learning_rate=0.1, max_depth=5, n_epochs=20, n_estimators=50, n_hidden=31, objective=multi:softmax, seed=0, score=0.765, total=   2.8s\n",
      "[CV] batch_size=32, learning_rate=0.1, max_depth=5, n_epochs=20, n_estimators=50, n_hidden=31, objective=multi:softmax, seed=0 \n",
      "[CV]  batch_size=32, learning_rate=0.1, max_depth=5, n_epochs=20, n_estimators=50, n_hidden=31, objective=multi:softmax, seed=0, score=0.780, total=   2.8s\n",
      "[CV] batch_size=32, learning_rate=0.1, max_depth=10, n_epochs=20, n_estimators=50, n_hidden=31, objective=multi:softmax, seed=0 \n",
      "[CV]  batch_size=32, learning_rate=0.1, max_depth=10, n_epochs=20, n_estimators=50, n_hidden=31, objective=multi:softmax, seed=0, score=0.795, total=   3.1s\n",
      "[CV] batch_size=32, learning_rate=0.1, max_depth=10, n_epochs=20, n_estimators=50, n_hidden=31, objective=multi:softmax, seed=0 \n",
      "[CV]  batch_size=32, learning_rate=0.1, max_depth=10, n_epochs=20, n_estimators=50, n_hidden=31, objective=multi:softmax, seed=0, score=0.800, total=   3.0s\n",
      "[CV] batch_size=32, learning_rate=0.1, max_depth=10, n_epochs=20, n_estimators=50, n_hidden=31, objective=multi:softmax, seed=0 \n",
      "[CV]  batch_size=32, learning_rate=0.1, max_depth=10, n_epochs=20, n_estimators=50, n_hidden=31, objective=multi:softmax, seed=0, score=0.775, total=   3.0s\n",
      "[CV] batch_size=32, learning_rate=0.1, max_depth=10, n_epochs=20, n_estimators=50, n_hidden=31, objective=multi:softmax, seed=0 \n",
      "[CV]  batch_size=32, learning_rate=0.1, max_depth=10, n_epochs=20, n_estimators=50, n_hidden=31, objective=multi:softmax, seed=0, score=0.785, total=   3.0s\n",
      "[CV] batch_size=32, learning_rate=0.1, max_depth=10, n_epochs=20, n_estimators=50, n_hidden=31, objective=multi:softmax, seed=0 \n",
      "[CV]  batch_size=32, learning_rate=0.1, max_depth=10, n_epochs=20, n_estimators=50, n_hidden=31, objective=multi:softmax, seed=0, score=0.780, total=   3.1s\n"
     ]
    },
    {
     "name": "stderr",
     "output_type": "stream",
     "text": [
      "[Parallel(n_jobs=1)]: Done  30 out of  30 | elapsed:  1.5min finished\n"
     ]
    },
    {
     "name": "stdout",
     "output_type": "stream",
     "text": [
      "Best parameters\n",
      "{'batch_size': 32, 'learning_rate': 0.1, 'max_depth': 10, 'n_epochs': 20, 'n_estimators': 50, 'n_hidden': 31, 'objective': 'multi:softmax', 'seed': 0}\n",
      "Tree training time 93.47\n"
     ]
    },
    {
     "name": "stderr",
     "output_type": "stream",
     "text": [
      "Converting dataframe to array: 100%|██████████| 1/1 [00:00<00:00, 1618.17it/s]\n"
     ]
    }
   ],
   "source": [
    "y = m.y_train\n",
    "X = m.X_train\n",
    "learner = XGBoost(n_input=n_features(X),\n",
    "                  n_classes=len(np.unique(y)),\n",
    "                  n_best=3,\n",
    "                  params=params)\n",
    "# Train learner\n",
    "learner.train(pandas2array(X), y)\n",
    "\n",
    "# Predict\n",
    "X_pred = X.iloc[0]\n",
    "y_pred = learner.predict(pandas2array(X_pred))  # n_best most likely classes"
   ]
  }
 ],
 "metadata": {
  "kernelspec": {
   "display_name": "Python 3",
   "language": "python",
   "name": "python3"
  },
  "language_info": {
   "codemirror_mode": {
    "name": "ipython",
    "version": 3
   },
   "file_extension": ".py",
   "mimetype": "text/x-python",
   "name": "python",
   "nbconvert_exporter": "python",
   "pygments_lexer": "ipython3",
   "version": "3.7.6"
  }
 },
 "nbformat": 4,
 "nbformat_minor": 4
}
